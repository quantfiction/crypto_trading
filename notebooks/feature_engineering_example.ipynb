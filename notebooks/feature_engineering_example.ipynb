{
    "cells": [
        {
            "cell_type": "markdown",
            "metadata": {},
            "source": [
                "# Feature Engineering Example\n",
                "\n",
                "This notebook demonstrates how to use the TimeSeriesFeatures class for efficient feature computation across multiple instruments."
            ]
        },
        {
            "cell_type": "code",
            "execution_count": null,
            "metadata": {},
            "source": [
                "import pandas as pd\n",
                "import numpy as np\n",
                "from crypto_trading.features.time_series import TimeSeriesFeatures"
            ]
        },
        {
            "cell_type": "markdown",
            "metadata": {},
            "source": [
                "## Load and Prepare Data"
            ]
        },
        {
            "cell_type": "code",
            "execution_count": null,
            "metadata": {},
            "source": [
                "# Filter conditions for your data\n",
                "conditions = (\n",
                "    df_1d_binance['some_condition'] == True\n",
                ")\n",
                "\n",
                "# Filter the data\n",
                "filtered_df = df_1d_binance.loc[conditions]"
            ]
        },
        {
            "cell_type": "markdown",
            "metadata": {},
            "source": [
                "## Initialize Feature Calculator"
            ]
        },
        {
            "cell_type": "code",
            "execution_count": null,
            "metadata": {},
            "source": [
                "# Initialize with default settings\n",
                "ts_features = TimeSeriesFeatures(group_col='instrument')"
            ]
        },
        {
            "cell_type": "markdown",
            "metadata": {},
            "source": [
                "## Compute Features with Default Configuration"
            ]
        },
        {
            "cell_type": "code",
            "execution_count": null,
            "metadata": {},
            "source": [
                "# Compute all features using default settings\n",
                "df_features = ts_features.compute_features(filtered_df)\n",
                "\n",
                "# Display the first few rows\n",
                "df_features.head()"
            ]
        },
        {
            "cell_type": "markdown",
            "metadata": {},
            "source": [
                "## Custom Feature Configuration"
            ]
        },
        {
            "cell_type": "code",
            "execution_count": null,
            "metadata": {},
            "source": [
                "# Define custom feature configuration\n",
                "custom_config = {\n",
                "    'returns': {'lookforward': 2},  # 2-day forward returns\n",
                "    'pos_in_range': {'lookbacks': [5, 15, 45]},  # Custom lookback periods\n",
                "    'cmema': [\n",
                "        {'fast_lookback': 5, 'slow_lookback': 20},\n",
                "        {'fast_lookback': 20, 'slow_lookback': 80}\n",
                "    ],\n",
                "    'aroon': {'lookbacks': [15, 45]}\n",
                "}\n",
                "\n",
                "# Compute features with custom configuration\n",
                "df_features_custom = ts_features.compute_features(filtered_df, custom_config)\n",
                "\n",
                "# Display the first few rows\n",
                "df_features_custom.head()"
            ]
        },
        {
            "cell_type": "markdown",
            "metadata": {},
            "source": [
                "## Individual Feature Computation\n",
                "\n",
                "You can also compute features individually if needed:"
            ]
        },
        {
            "cell_type": "code",
            "execution_count": null,
            "metadata": {},
            "source": [
                "# Calculate just the forward returns\n",
                "fwd_returns = ts_features.calc_returns(filtered_df, lookforward=1)\n",
                "\n",
                "# Calculate position in range for a specific lookback\n",
                "pos_range = ts_features.calc_pos_in_range(filtered_df, lookback=10)\n",
                "\n",
                "# Calculate CMEMA with custom parameters\n",
                "cmema = ts_features.calc_cmema(\n",
                "    filtered_df,\n",
                "    fast_lookback=5,\n",
                "    slow_lookback=20,\n",
                "    price_col='close',\n",
                "    range_col='range_perc_ema_5'\n",
                ")\n",
                "\n",
                "# Calculate Aroon oscillator\n",
                "aroon = ts_features.calc_aroon(filtered_df, lookback=25)"
            ]
        }
    ],
    "metadata": {
        "kernelspec": {
            "display_name": "Python 3",
            "language": "python",
            "name": "python3"
        },
        "language_info": {
            "codemirror_mode": {
                "name": "ipython",
                "version": 3
            },
            "file_extension": ".py",
            "mimetype": "text/x-python",
            "name": "python",
            "nbconvert_exporter": "python",
            "pygments_lexer": "ipython3",
            "version": "3.8.0"
        }
    },
    "nbformat": 4,
    "nbformat_minor": 4
}