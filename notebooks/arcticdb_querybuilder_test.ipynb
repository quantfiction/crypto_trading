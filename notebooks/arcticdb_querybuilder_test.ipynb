{
 "cells": [
  {
   "cell_type": "code",
   "execution_count": 1,
   "id": "c287757b-3c43-46b0-9d0e-35df7e75b1eb",
   "metadata": {},
   "outputs": [],
   "source": [
    "import os\n",
    "import numpy as np\n",
    "import pandas as pd\n",
    "import random\n",
    "import arcticdb as adb\n",
    "from arcticdb.util.test import random_strings_of_length"
   ]
  },
  {
   "cell_type": "code",
   "execution_count": 2,
   "id": "af62b3cb-4b9b-4963-9522-2b22a00e17a1",
   "metadata": {},
   "outputs": [],
   "source": [
    "arctic = adb.Arctic(\"lmdb://arcticdb_demo\")"
   ]
  },
  {
   "cell_type": "code",
   "execution_count": 3,
   "id": "09a7954b-0bfb-49d1-ac4b-9223a39353a1",
   "metadata": {},
   "outputs": [],
   "source": [
    "if 'sample' not in arctic.list_libraries():\n",
    "    # library does not already exist\n",
    "    arctic.create_library('sample')\n",
    "lib = arctic.get_library('sample')"
   ]
  },
  {
   "cell_type": "code",
   "execution_count": 5,
   "id": "641ba140-ab5f-449b-9fc9-f64c831d2e97",
   "metadata": {},
   "outputs": [],
   "source": [
    "ten_grouping_values = random_strings_of_length(10, 10, True)\n",
    "one_hundred_thousand_grouping_values = random_strings_of_length(100_000, 10, True)\n",
    "rng = np.random.RandomState()\n",
    "\n",
    "sym_10M = \"demo_10M\"\n",
    "sym_100M = \"demo_100M\"\n",
    "sym_1B = \"demo_1B\""
   ]
  },
  {
   "cell_type": "code",
   "execution_count": 6,
   "id": "26960b7b-637c-4284-bec8-7c30cb36cc59",
   "metadata": {},
   "outputs": [],
   "source": [
    "sym = sym_10M"
   ]
  },
  {
   "cell_type": "code",
   "execution_count": 7,
   "id": "9b5af3d5-46f6-4abf-8311-93512684d81d",
   "metadata": {},
   "outputs": [],
   "source": [
    "if sym==sym_10M:\n",
    "    num_rows = 10_000_000\n",
    "elif sym==sym_100M:\n",
    "    num_rows = 100_000_000\n",
    "elif sym==sym_1B:\n",
    "    num_rows = 1_000_000_000\n",
    "df = pd.DataFrame(\n",
    "    {\n",
    "        \"grouping_column_10\": list(random.choices(ten_grouping_values, k=num_rows)),\n",
    "        \"grouping_column_100_000\": list(random.choices(one_hundred_thousand_grouping_values, k=num_rows)),\n",
    "        \"numeric_column\": rng.rand((num_rows))\n",
    "    }\n",
    ")"
   ]
  },
  {
   "cell_type": "code",
   "execution_count": 10,
   "id": "d0b4db71-6a4d-4a1f-aed4-8f6994043fa4",
   "metadata": {},
   "outputs": [
    {
     "data": {
      "text/plain": [
       "(10000000, 3)"
      ]
     },
     "execution_count": 10,
     "metadata": {},
     "output_type": "execute_result"
    }
   ],
   "source": [
    "df.shape"
   ]
  },
  {
   "cell_type": "code",
   "execution_count": 11,
   "id": "171fa9ab-6c89-44d3-bc17-1d9302e813ab",
   "metadata": {},
   "outputs": [
    {
     "data": {
      "text/plain": [
       "VersionedItem(symbol='demo_10M', library='sample', data=n/a, version=0, metadata=None, host='LMDB(path=/home/quantfiction/repositories/crypto_trading/notebooks/arcticdb_demo)', timestamp=1717791306196657390)"
      ]
     },
     "execution_count": 11,
     "metadata": {},
     "output_type": "execute_result"
    }
   ],
   "source": [
    "lib.write(sym, df)"
   ]
  },
  {
   "cell_type": "code",
   "execution_count": 12,
   "id": "29ca01eb-4507-47f7-b17a-97dd6d92e116",
   "metadata": {},
   "outputs": [
    {
     "data": {
      "text/html": [
       "<div>\n",
       "<style scoped>\n",
       "    .dataframe tbody tr th:only-of-type {\n",
       "        vertical-align: middle;\n",
       "    }\n",
       "\n",
       "    .dataframe tbody tr th {\n",
       "        vertical-align: top;\n",
       "    }\n",
       "\n",
       "    .dataframe thead th {\n",
       "        text-align: right;\n",
       "    }\n",
       "</style>\n",
       "<table border=\"1\" class=\"dataframe\">\n",
       "  <thead>\n",
       "    <tr style=\"text-align: right;\">\n",
       "      <th></th>\n",
       "      <th>end_index</th>\n",
       "      <th>version_id</th>\n",
       "      <th>stream_id</th>\n",
       "      <th>creation_ts</th>\n",
       "      <th>content_hash</th>\n",
       "      <th>index_type</th>\n",
       "      <th>key_type</th>\n",
       "      <th>start_col</th>\n",
       "      <th>end_col</th>\n",
       "      <th>start_row</th>\n",
       "      <th>end_row</th>\n",
       "    </tr>\n",
       "    <tr>\n",
       "      <th>start_index</th>\n",
       "      <th></th>\n",
       "      <th></th>\n",
       "      <th></th>\n",
       "      <th></th>\n",
       "      <th></th>\n",
       "      <th></th>\n",
       "      <th></th>\n",
       "      <th></th>\n",
       "      <th></th>\n",
       "      <th></th>\n",
       "      <th></th>\n",
       "    </tr>\n",
       "  </thead>\n",
       "  <tbody>\n",
       "    <tr>\n",
       "      <th>1970-01-01 00:00:00.000000</th>\n",
       "      <td>1970-01-01 00:00:00.000100</td>\n",
       "      <td>0</td>\n",
       "      <td>b'demo_10M'</td>\n",
       "      <td>1717791304303709171</td>\n",
       "      <td>16209642513796059015</td>\n",
       "      <td>84</td>\n",
       "      <td>2</td>\n",
       "      <td>0</td>\n",
       "      <td>3</td>\n",
       "      <td>0</td>\n",
       "      <td>100000</td>\n",
       "    </tr>\n",
       "    <tr>\n",
       "      <th>1970-01-01 00:00:00.000100</th>\n",
       "      <td>1970-01-01 00:00:00.000200</td>\n",
       "      <td>0</td>\n",
       "      <td>b'demo_10M'</td>\n",
       "      <td>1717791304307977507</td>\n",
       "      <td>8110629139241627148</td>\n",
       "      <td>84</td>\n",
       "      <td>2</td>\n",
       "      <td>0</td>\n",
       "      <td>3</td>\n",
       "      <td>100000</td>\n",
       "      <td>200000</td>\n",
       "    </tr>\n",
       "    <tr>\n",
       "      <th>1970-01-01 00:00:00.000200</th>\n",
       "      <td>1970-01-01 00:00:00.000300</td>\n",
       "      <td>0</td>\n",
       "      <td>b'demo_10M'</td>\n",
       "      <td>1717791304321374852</td>\n",
       "      <td>10556189679508249519</td>\n",
       "      <td>84</td>\n",
       "      <td>2</td>\n",
       "      <td>0</td>\n",
       "      <td>3</td>\n",
       "      <td>200000</td>\n",
       "      <td>300000</td>\n",
       "    </tr>\n",
       "    <tr>\n",
       "      <th>1970-01-01 00:00:00.000300</th>\n",
       "      <td>1970-01-01 00:00:00.000400</td>\n",
       "      <td>0</td>\n",
       "      <td>b'demo_10M'</td>\n",
       "      <td>1717791304328465970</td>\n",
       "      <td>1845369905848734741</td>\n",
       "      <td>84</td>\n",
       "      <td>2</td>\n",
       "      <td>0</td>\n",
       "      <td>3</td>\n",
       "      <td>300000</td>\n",
       "      <td>400000</td>\n",
       "    </tr>\n",
       "    <tr>\n",
       "      <th>1970-01-01 00:00:00.000400</th>\n",
       "      <td>1970-01-01 00:00:00.000500</td>\n",
       "      <td>0</td>\n",
       "      <td>b'demo_10M'</td>\n",
       "      <td>1717791304301738067</td>\n",
       "      <td>18040571775985524274</td>\n",
       "      <td>84</td>\n",
       "      <td>2</td>\n",
       "      <td>0</td>\n",
       "      <td>3</td>\n",
       "      <td>400000</td>\n",
       "      <td>500000</td>\n",
       "    </tr>\n",
       "    <tr>\n",
       "      <th>...</th>\n",
       "      <td>...</td>\n",
       "      <td>...</td>\n",
       "      <td>...</td>\n",
       "      <td>...</td>\n",
       "      <td>...</td>\n",
       "      <td>...</td>\n",
       "      <td>...</td>\n",
       "      <td>...</td>\n",
       "      <td>...</td>\n",
       "      <td>...</td>\n",
       "      <td>...</td>\n",
       "    </tr>\n",
       "    <tr>\n",
       "      <th>1970-01-01 00:00:00.009500</th>\n",
       "      <td>1970-01-01 00:00:00.009600</td>\n",
       "      <td>0</td>\n",
       "      <td>b'demo_10M'</td>\n",
       "      <td>1717791305495176195</td>\n",
       "      <td>6000351684572541693</td>\n",
       "      <td>84</td>\n",
       "      <td>2</td>\n",
       "      <td>0</td>\n",
       "      <td>3</td>\n",
       "      <td>9500000</td>\n",
       "      <td>9600000</td>\n",
       "    </tr>\n",
       "    <tr>\n",
       "      <th>1970-01-01 00:00:00.009600</th>\n",
       "      <td>1970-01-01 00:00:00.009700</td>\n",
       "      <td>0</td>\n",
       "      <td>b'demo_10M'</td>\n",
       "      <td>1717791305511303374</td>\n",
       "      <td>5885251280793145919</td>\n",
       "      <td>84</td>\n",
       "      <td>2</td>\n",
       "      <td>0</td>\n",
       "      <td>3</td>\n",
       "      <td>9600000</td>\n",
       "      <td>9700000</td>\n",
       "    </tr>\n",
       "    <tr>\n",
       "      <th>1970-01-01 00:00:00.009700</th>\n",
       "      <td>1970-01-01 00:00:00.009800</td>\n",
       "      <td>0</td>\n",
       "      <td>b'demo_10M'</td>\n",
       "      <td>1717791305531238165</td>\n",
       "      <td>4315147052244089728</td>\n",
       "      <td>84</td>\n",
       "      <td>2</td>\n",
       "      <td>0</td>\n",
       "      <td>3</td>\n",
       "      <td>9700000</td>\n",
       "      <td>9800000</td>\n",
       "    </tr>\n",
       "    <tr>\n",
       "      <th>1970-01-01 00:00:00.009800</th>\n",
       "      <td>1970-01-01 00:00:00.009900</td>\n",
       "      <td>0</td>\n",
       "      <td>b'demo_10M'</td>\n",
       "      <td>1717791305552709283</td>\n",
       "      <td>13886310973613602345</td>\n",
       "      <td>84</td>\n",
       "      <td>2</td>\n",
       "      <td>0</td>\n",
       "      <td>3</td>\n",
       "      <td>9800000</td>\n",
       "      <td>9900000</td>\n",
       "    </tr>\n",
       "    <tr>\n",
       "      <th>1970-01-01 00:00:00.009900</th>\n",
       "      <td>1970-01-01 00:00:00.010000</td>\n",
       "      <td>0</td>\n",
       "      <td>b'demo_10M'</td>\n",
       "      <td>1717791305571896163</td>\n",
       "      <td>10168844443930929645</td>\n",
       "      <td>84</td>\n",
       "      <td>2</td>\n",
       "      <td>0</td>\n",
       "      <td>3</td>\n",
       "      <td>9900000</td>\n",
       "      <td>10000000</td>\n",
       "    </tr>\n",
       "  </tbody>\n",
       "</table>\n",
       "<p>100 rows × 11 columns</p>\n",
       "</div>"
      ],
      "text/plain": [
       "                                            end_index  version_id  \\\n",
       "start_index                                                         \n",
       "1970-01-01 00:00:00.000000 1970-01-01 00:00:00.000100           0   \n",
       "1970-01-01 00:00:00.000100 1970-01-01 00:00:00.000200           0   \n",
       "1970-01-01 00:00:00.000200 1970-01-01 00:00:00.000300           0   \n",
       "1970-01-01 00:00:00.000300 1970-01-01 00:00:00.000400           0   \n",
       "1970-01-01 00:00:00.000400 1970-01-01 00:00:00.000500           0   \n",
       "...                                               ...         ...   \n",
       "1970-01-01 00:00:00.009500 1970-01-01 00:00:00.009600           0   \n",
       "1970-01-01 00:00:00.009600 1970-01-01 00:00:00.009700           0   \n",
       "1970-01-01 00:00:00.009700 1970-01-01 00:00:00.009800           0   \n",
       "1970-01-01 00:00:00.009800 1970-01-01 00:00:00.009900           0   \n",
       "1970-01-01 00:00:00.009900 1970-01-01 00:00:00.010000           0   \n",
       "\n",
       "                              stream_id          creation_ts  \\\n",
       "start_index                                                    \n",
       "1970-01-01 00:00:00.000000  b'demo_10M'  1717791304303709171   \n",
       "1970-01-01 00:00:00.000100  b'demo_10M'  1717791304307977507   \n",
       "1970-01-01 00:00:00.000200  b'demo_10M'  1717791304321374852   \n",
       "1970-01-01 00:00:00.000300  b'demo_10M'  1717791304328465970   \n",
       "1970-01-01 00:00:00.000400  b'demo_10M'  1717791304301738067   \n",
       "...                                 ...                  ...   \n",
       "1970-01-01 00:00:00.009500  b'demo_10M'  1717791305495176195   \n",
       "1970-01-01 00:00:00.009600  b'demo_10M'  1717791305511303374   \n",
       "1970-01-01 00:00:00.009700  b'demo_10M'  1717791305531238165   \n",
       "1970-01-01 00:00:00.009800  b'demo_10M'  1717791305552709283   \n",
       "1970-01-01 00:00:00.009900  b'demo_10M'  1717791305571896163   \n",
       "\n",
       "                                    content_hash  index_type  key_type  \\\n",
       "start_index                                                              \n",
       "1970-01-01 00:00:00.000000  16209642513796059015          84         2   \n",
       "1970-01-01 00:00:00.000100   8110629139241627148          84         2   \n",
       "1970-01-01 00:00:00.000200  10556189679508249519          84         2   \n",
       "1970-01-01 00:00:00.000300   1845369905848734741          84         2   \n",
       "1970-01-01 00:00:00.000400  18040571775985524274          84         2   \n",
       "...                                          ...         ...       ...   \n",
       "1970-01-01 00:00:00.009500   6000351684572541693          84         2   \n",
       "1970-01-01 00:00:00.009600   5885251280793145919          84         2   \n",
       "1970-01-01 00:00:00.009700   4315147052244089728          84         2   \n",
       "1970-01-01 00:00:00.009800  13886310973613602345          84         2   \n",
       "1970-01-01 00:00:00.009900  10168844443930929645          84         2   \n",
       "\n",
       "                            start_col  end_col  start_row   end_row  \n",
       "start_index                                                          \n",
       "1970-01-01 00:00:00.000000          0        3          0    100000  \n",
       "1970-01-01 00:00:00.000100          0        3     100000    200000  \n",
       "1970-01-01 00:00:00.000200          0        3     200000    300000  \n",
       "1970-01-01 00:00:00.000300          0        3     300000    400000  \n",
       "1970-01-01 00:00:00.000400          0        3     400000    500000  \n",
       "...                               ...      ...        ...       ...  \n",
       "1970-01-01 00:00:00.009500          0        3    9500000   9600000  \n",
       "1970-01-01 00:00:00.009600          0        3    9600000   9700000  \n",
       "1970-01-01 00:00:00.009700          0        3    9700000   9800000  \n",
       "1970-01-01 00:00:00.009800          0        3    9800000   9900000  \n",
       "1970-01-01 00:00:00.009900          0        3    9900000  10000000  \n",
       "\n",
       "[100 rows x 11 columns]"
      ]
     },
     "execution_count": 12,
     "metadata": {},
     "output_type": "execute_result"
    }
   ],
   "source": [
    "lib._nvs.read_index(sym)"
   ]
  },
  {
   "cell_type": "code",
   "execution_count": 15,
   "id": "3a53904d-aa9a-49a8-92cd-4df695317efd",
   "metadata": {},
   "outputs": [
    {
     "data": {
      "text/plain": [
       "VersionedItem(symbol='demo_10M', library='sample', data=n/a, version=0, metadata=None, host='LMDB(path=/home/quantfiction/repositories/crypto_trading/notebooks/arcticdb_demo)', timestamp=1717791306196657390)"
      ]
     },
     "execution_count": 15,
     "metadata": {},
     "output_type": "execute_result"
    }
   ],
   "source": [
    "lib.read_metadata(sym)"
   ]
  },
  {
   "cell_type": "code",
   "execution_count": 18,
   "id": "5ced517b-dc18-413b-8b7d-0870baa74757",
   "metadata": {},
   "outputs": [
    {
     "name": "stdout",
     "output_type": "stream",
     "text": [
      "CPU times: user 922 ms, sys: 502 ms, total: 1.42 s\n",
      "Wall time: 1.01 s\n"
     ]
    },
    {
     "data": {
      "text/plain": [
       "VersionedItem(symbol='demo_10M', library='sample', data=<class 'pandas.core.frame.DataFrame'>, version=0, metadata=None, host='LMDB(path=/home/quantfiction/repositories/crypto_trading/notebooks/arcticdb_demo)', timestamp=1717791306196657390)"
      ]
     },
     "execution_count": 18,
     "metadata": {},
     "output_type": "execute_result"
    }
   ],
   "source": [
    "%%time\n",
    "lib.read(sym)"
   ]
  },
  {
   "cell_type": "code",
   "execution_count": 19,
   "id": "94b62355-91e7-4583-8f5e-66404012e1c3",
   "metadata": {},
   "outputs": [
    {
     "name": "stdout",
     "output_type": "stream",
     "text": [
      "CPU times: user 235 ms, sys: 146 ms, total: 381 ms\n",
      "Wall time: 125 ms\n"
     ]
    },
    {
     "data": {
      "text/plain": [
       "VersionedItem(symbol='demo_10M', library='sample', data=<class 'pandas.core.frame.DataFrame'>, version=0, metadata=None, host='LMDB(path=/home/quantfiction/repositories/crypto_trading/notebooks/arcticdb_demo)', timestamp=1717791306196657390)"
      ]
     },
     "execution_count": 19,
     "metadata": {},
     "output_type": "execute_result"
    }
   ],
   "source": [
    "%%time\n",
    "lib.read(sym, columns=[\"grouping_column_10\", \"numeric_column\"])"
   ]
  },
  {
   "cell_type": "markdown",
   "id": "abe996ab-095d-4e81-81cd-80b0995f7322",
   "metadata": {},
   "source": [
    "# Filtering"
   ]
  },
  {
   "cell_type": "markdown",
   "id": "135cbf98-fe91-42e5-b02e-cc1afe8e96a6",
   "metadata": {},
   "source": [
    "## Useless Filter"
   ]
  },
  {
   "cell_type": "code",
   "execution_count": 20,
   "id": "333252da-c4fe-4aeb-8a33-83608b46cde2",
   "metadata": {},
   "outputs": [],
   "source": [
    "q = adb.QueryBuilder()\n",
    "q = q[q[\"numeric_column\"] < 2.0]"
   ]
  },
  {
   "cell_type": "code",
   "execution_count": 21,
   "id": "a0596900-0182-4e7b-b800-2fa65fbc9dbc",
   "metadata": {},
   "outputs": [
    {
     "name": "stdout",
     "output_type": "stream",
     "text": [
      "CPU times: user 1.29 s, sys: 831 ms, total: 2.12 s\n",
      "Wall time: 1.32 s\n"
     ]
    },
    {
     "data": {
      "text/plain": [
       "VersionedItem(symbol='demo_10M', library='sample', data=<class 'pandas.core.frame.DataFrame'>, version=0, metadata=None, host='LMDB(path=/home/quantfiction/repositories/crypto_trading/notebooks/arcticdb_demo)', timestamp=1717791306196657390)"
      ]
     },
     "execution_count": 21,
     "metadata": {},
     "output_type": "execute_result"
    }
   ],
   "source": [
    "%%time\n",
    "lib.read(sym, query_builder=q)"
   ]
  },
  {
   "cell_type": "markdown",
   "id": "1e6577c7-23c9-4ce3-a6f8-51ce49104372",
   "metadata": {},
   "source": [
    "## Real Filter"
   ]
  },
  {
   "cell_type": "code",
   "execution_count": 22,
   "id": "c46bc57e-767f-4459-b79c-107c3e9f4fd8",
   "metadata": {},
   "outputs": [],
   "source": [
    "q = adb.QueryBuilder()\n",
    "q = q[q[\"numeric_column\"] < 0.1]"
   ]
  },
  {
   "cell_type": "code",
   "execution_count": 23,
   "id": "8761d5da-4235-4774-8887-195e33a4adf1",
   "metadata": {},
   "outputs": [
    {
     "name": "stdout",
     "output_type": "stream",
     "text": [
      "CPU times: user 478 ms, sys: 311 ms, total: 789 ms\n",
      "Wall time: 231 ms\n"
     ]
    },
    {
     "data": {
      "text/html": [
       "<div>\n",
       "<style scoped>\n",
       "    .dataframe tbody tr th:only-of-type {\n",
       "        vertical-align: middle;\n",
       "    }\n",
       "\n",
       "    .dataframe tbody tr th {\n",
       "        vertical-align: top;\n",
       "    }\n",
       "\n",
       "    .dataframe thead th {\n",
       "        text-align: right;\n",
       "    }\n",
       "</style>\n",
       "<table border=\"1\" class=\"dataframe\">\n",
       "  <thead>\n",
       "    <tr style=\"text-align: right;\">\n",
       "      <th></th>\n",
       "      <th>grouping_column_10</th>\n",
       "      <th>grouping_column_100_000</th>\n",
       "      <th>numeric_column</th>\n",
       "    </tr>\n",
       "  </thead>\n",
       "  <tbody>\n",
       "    <tr>\n",
       "      <th>0</th>\n",
       "      <td>QIM84DT9TB</td>\n",
       "      <td>GFXLFU4VAB</td>\n",
       "      <td>0.073828</td>\n",
       "    </tr>\n",
       "    <tr>\n",
       "      <th>1</th>\n",
       "      <td>PZA6Z2CNED</td>\n",
       "      <td>FU16CZROD6</td>\n",
       "      <td>0.000987</td>\n",
       "    </tr>\n",
       "    <tr>\n",
       "      <th>2</th>\n",
       "      <td>LJ0JFI3SGC</td>\n",
       "      <td>602MM13YN7</td>\n",
       "      <td>0.028889</td>\n",
       "    </tr>\n",
       "    <tr>\n",
       "      <th>3</th>\n",
       "      <td>ZK2L6I5T5R</td>\n",
       "      <td>I9PI2SE0MU</td>\n",
       "      <td>0.018263</td>\n",
       "    </tr>\n",
       "    <tr>\n",
       "      <th>4</th>\n",
       "      <td>LJ0JFI3SGC</td>\n",
       "      <td>UZLPC5A0Z4</td>\n",
       "      <td>0.016643</td>\n",
       "    </tr>\n",
       "    <tr>\n",
       "      <th>...</th>\n",
       "      <td>...</td>\n",
       "      <td>...</td>\n",
       "      <td>...</td>\n",
       "    </tr>\n",
       "    <tr>\n",
       "      <th>1000355</th>\n",
       "      <td>LJ0JFI3SGC</td>\n",
       "      <td>L3UIPVXVQ0</td>\n",
       "      <td>0.073518</td>\n",
       "    </tr>\n",
       "    <tr>\n",
       "      <th>1000356</th>\n",
       "      <td>I5KMQNY1QL</td>\n",
       "      <td>QIKT6Q9JOF</td>\n",
       "      <td>0.021464</td>\n",
       "    </tr>\n",
       "    <tr>\n",
       "      <th>1000357</th>\n",
       "      <td>I5KMQNY1QL</td>\n",
       "      <td>1J1F5Z45EI</td>\n",
       "      <td>0.037978</td>\n",
       "    </tr>\n",
       "    <tr>\n",
       "      <th>1000358</th>\n",
       "      <td>LJ0JFI3SGC</td>\n",
       "      <td>UX77NFCBFM</td>\n",
       "      <td>0.004842</td>\n",
       "    </tr>\n",
       "    <tr>\n",
       "      <th>1000359</th>\n",
       "      <td>K15PAY160I</td>\n",
       "      <td>KWTBKP6PYK</td>\n",
       "      <td>0.093329</td>\n",
       "    </tr>\n",
       "  </tbody>\n",
       "</table>\n",
       "<p>1000360 rows × 3 columns</p>\n",
       "</div>"
      ],
      "text/plain": [
       "        grouping_column_10 grouping_column_100_000  numeric_column\n",
       "0               QIM84DT9TB              GFXLFU4VAB        0.073828\n",
       "1               PZA6Z2CNED              FU16CZROD6        0.000987\n",
       "2               LJ0JFI3SGC              602MM13YN7        0.028889\n",
       "3               ZK2L6I5T5R              I9PI2SE0MU        0.018263\n",
       "4               LJ0JFI3SGC              UZLPC5A0Z4        0.016643\n",
       "...                    ...                     ...             ...\n",
       "1000355         LJ0JFI3SGC              L3UIPVXVQ0        0.073518\n",
       "1000356         I5KMQNY1QL              QIKT6Q9JOF        0.021464\n",
       "1000357         I5KMQNY1QL              1J1F5Z45EI        0.037978\n",
       "1000358         LJ0JFI3SGC              UX77NFCBFM        0.004842\n",
       "1000359         K15PAY160I              KWTBKP6PYK        0.093329\n",
       "\n",
       "[1000360 rows x 3 columns]"
      ]
     },
     "execution_count": 23,
     "metadata": {},
     "output_type": "execute_result"
    }
   ],
   "source": [
    "%%time\n",
    "lib.read(sym, query_builder=q).data"
   ]
  },
  {
   "cell_type": "markdown",
   "id": "2cb0bc81-4567-49fa-85a7-bbb305cceb2e",
   "metadata": {},
   "source": [
    "## Projections "
   ]
  },
  {
   "cell_type": "code",
   "execution_count": 24,
   "id": "ef4ebad5-4b5a-4c7e-90d8-4962e55aaee6",
   "metadata": {},
   "outputs": [],
   "source": [
    "q = adb.QueryBuilder()\n",
    "q = q.apply(\"new_column\", q[\"numeric_column\"] * 2.0)"
   ]
  },
  {
   "cell_type": "code",
   "execution_count": 28,
   "id": "3a192ed6-3c91-49ff-a715-0d5c7fa18007",
   "metadata": {},
   "outputs": [
    {
     "name": "stdout",
     "output_type": "stream",
     "text": [
      "CPU times: user 1.01 s, sys: 717 ms, total: 1.73 s\n",
      "Wall time: 1.22 s\n"
     ]
    },
    {
     "data": {
      "text/html": [
       "<div>\n",
       "<style scoped>\n",
       "    .dataframe tbody tr th:only-of-type {\n",
       "        vertical-align: middle;\n",
       "    }\n",
       "\n",
       "    .dataframe tbody tr th {\n",
       "        vertical-align: top;\n",
       "    }\n",
       "\n",
       "    .dataframe thead th {\n",
       "        text-align: right;\n",
       "    }\n",
       "</style>\n",
       "<table border=\"1\" class=\"dataframe\">\n",
       "  <thead>\n",
       "    <tr style=\"text-align: right;\">\n",
       "      <th></th>\n",
       "      <th>grouping_column_10</th>\n",
       "      <th>grouping_column_100_000</th>\n",
       "      <th>numeric_column</th>\n",
       "      <th>new_column</th>\n",
       "    </tr>\n",
       "  </thead>\n",
       "  <tbody>\n",
       "    <tr>\n",
       "      <th>0</th>\n",
       "      <td>QIM84DT9TB</td>\n",
       "      <td>QX76M5N43S</td>\n",
       "      <td>0.509679</td>\n",
       "      <td>1.019359</td>\n",
       "    </tr>\n",
       "    <tr>\n",
       "      <th>1</th>\n",
       "      <td>8PXRBDCFUN</td>\n",
       "      <td>NP0HS20JV9</td>\n",
       "      <td>0.885924</td>\n",
       "      <td>1.771848</td>\n",
       "    </tr>\n",
       "    <tr>\n",
       "      <th>2</th>\n",
       "      <td>YDC0K8AGOQ</td>\n",
       "      <td>XDDEE73H94</td>\n",
       "      <td>0.416197</td>\n",
       "      <td>0.832393</td>\n",
       "    </tr>\n",
       "    <tr>\n",
       "      <th>3</th>\n",
       "      <td>8PXRBDCFUN</td>\n",
       "      <td>FHOQ7PWKZR</td>\n",
       "      <td>0.222763</td>\n",
       "      <td>0.445525</td>\n",
       "    </tr>\n",
       "    <tr>\n",
       "      <th>4</th>\n",
       "      <td>1UECMMRD77</td>\n",
       "      <td>6BZKO2TMZH</td>\n",
       "      <td>0.495821</td>\n",
       "      <td>0.991641</td>\n",
       "    </tr>\n",
       "    <tr>\n",
       "      <th>...</th>\n",
       "      <td>...</td>\n",
       "      <td>...</td>\n",
       "      <td>...</td>\n",
       "      <td>...</td>\n",
       "    </tr>\n",
       "    <tr>\n",
       "      <th>9999995</th>\n",
       "      <td>ZK2L6I5T5R</td>\n",
       "      <td>CFKIC8DOZI</td>\n",
       "      <td>0.908071</td>\n",
       "      <td>1.816141</td>\n",
       "    </tr>\n",
       "    <tr>\n",
       "      <th>9999996</th>\n",
       "      <td>8PXRBDCFUN</td>\n",
       "      <td>3XOBX33OK5</td>\n",
       "      <td>0.201978</td>\n",
       "      <td>0.403956</td>\n",
       "    </tr>\n",
       "    <tr>\n",
       "      <th>9999997</th>\n",
       "      <td>ZK2L6I5T5R</td>\n",
       "      <td>KN62F39EUZ</td>\n",
       "      <td>0.598491</td>\n",
       "      <td>1.196983</td>\n",
       "    </tr>\n",
       "    <tr>\n",
       "      <th>9999998</th>\n",
       "      <td>QIM84DT9TB</td>\n",
       "      <td>J1191J1FI2</td>\n",
       "      <td>0.566221</td>\n",
       "      <td>1.132442</td>\n",
       "    </tr>\n",
       "    <tr>\n",
       "      <th>9999999</th>\n",
       "      <td>LJ0JFI3SGC</td>\n",
       "      <td>1XIHOYFXB7</td>\n",
       "      <td>0.545613</td>\n",
       "      <td>1.091227</td>\n",
       "    </tr>\n",
       "  </tbody>\n",
       "</table>\n",
       "<p>10000000 rows × 4 columns</p>\n",
       "</div>"
      ],
      "text/plain": [
       "        grouping_column_10 grouping_column_100_000  numeric_column  new_column\n",
       "0               QIM84DT9TB              QX76M5N43S        0.509679    1.019359\n",
       "1               8PXRBDCFUN              NP0HS20JV9        0.885924    1.771848\n",
       "2               YDC0K8AGOQ              XDDEE73H94        0.416197    0.832393\n",
       "3               8PXRBDCFUN              FHOQ7PWKZR        0.222763    0.445525\n",
       "4               1UECMMRD77              6BZKO2TMZH        0.495821    0.991641\n",
       "...                    ...                     ...             ...         ...\n",
       "9999995         ZK2L6I5T5R              CFKIC8DOZI        0.908071    1.816141\n",
       "9999996         8PXRBDCFUN              3XOBX33OK5        0.201978    0.403956\n",
       "9999997         ZK2L6I5T5R              KN62F39EUZ        0.598491    1.196983\n",
       "9999998         QIM84DT9TB              J1191J1FI2        0.566221    1.132442\n",
       "9999999         LJ0JFI3SGC              1XIHOYFXB7        0.545613    1.091227\n",
       "\n",
       "[10000000 rows x 4 columns]"
      ]
     },
     "execution_count": 28,
     "metadata": {},
     "output_type": "execute_result"
    }
   ],
   "source": [
    "%%time\n",
    "lib.read(sym, query_builder=q).data"
   ]
  },
  {
   "cell_type": "code",
   "execution_count": 27,
   "id": "2003290e-a472-43b1-807f-2fe36a23b071",
   "metadata": {},
   "outputs": [
    {
     "name": "stdout",
     "output_type": "stream",
     "text": [
      "CPU times: user 1.05 s, sys: 901 ms, total: 1.95 s\n",
      "Wall time: 1.53 s\n"
     ]
    },
    {
     "data": {
      "text/html": [
       "<div>\n",
       "<style scoped>\n",
       "    .dataframe tbody tr th:only-of-type {\n",
       "        vertical-align: middle;\n",
       "    }\n",
       "\n",
       "    .dataframe tbody tr th {\n",
       "        vertical-align: top;\n",
       "    }\n",
       "\n",
       "    .dataframe thead th {\n",
       "        text-align: right;\n",
       "    }\n",
       "</style>\n",
       "<table border=\"1\" class=\"dataframe\">\n",
       "  <thead>\n",
       "    <tr style=\"text-align: right;\">\n",
       "      <th></th>\n",
       "      <th>grouping_column_10</th>\n",
       "      <th>grouping_column_100_000</th>\n",
       "      <th>numeric_column</th>\n",
       "      <th>new_column</th>\n",
       "    </tr>\n",
       "  </thead>\n",
       "  <tbody>\n",
       "    <tr>\n",
       "      <th>0</th>\n",
       "      <td>QIM84DT9TB</td>\n",
       "      <td>QX76M5N43S</td>\n",
       "      <td>0.509679</td>\n",
       "      <td>1.019359</td>\n",
       "    </tr>\n",
       "    <tr>\n",
       "      <th>1</th>\n",
       "      <td>8PXRBDCFUN</td>\n",
       "      <td>NP0HS20JV9</td>\n",
       "      <td>0.885924</td>\n",
       "      <td>1.771848</td>\n",
       "    </tr>\n",
       "    <tr>\n",
       "      <th>2</th>\n",
       "      <td>YDC0K8AGOQ</td>\n",
       "      <td>XDDEE73H94</td>\n",
       "      <td>0.416197</td>\n",
       "      <td>0.832393</td>\n",
       "    </tr>\n",
       "    <tr>\n",
       "      <th>3</th>\n",
       "      <td>8PXRBDCFUN</td>\n",
       "      <td>FHOQ7PWKZR</td>\n",
       "      <td>0.222763</td>\n",
       "      <td>0.445525</td>\n",
       "    </tr>\n",
       "    <tr>\n",
       "      <th>4</th>\n",
       "      <td>1UECMMRD77</td>\n",
       "      <td>6BZKO2TMZH</td>\n",
       "      <td>0.495821</td>\n",
       "      <td>0.991641</td>\n",
       "    </tr>\n",
       "    <tr>\n",
       "      <th>...</th>\n",
       "      <td>...</td>\n",
       "      <td>...</td>\n",
       "      <td>...</td>\n",
       "      <td>...</td>\n",
       "    </tr>\n",
       "    <tr>\n",
       "      <th>9999995</th>\n",
       "      <td>ZK2L6I5T5R</td>\n",
       "      <td>CFKIC8DOZI</td>\n",
       "      <td>0.908071</td>\n",
       "      <td>1.816141</td>\n",
       "    </tr>\n",
       "    <tr>\n",
       "      <th>9999996</th>\n",
       "      <td>8PXRBDCFUN</td>\n",
       "      <td>3XOBX33OK5</td>\n",
       "      <td>0.201978</td>\n",
       "      <td>0.403956</td>\n",
       "    </tr>\n",
       "    <tr>\n",
       "      <th>9999997</th>\n",
       "      <td>ZK2L6I5T5R</td>\n",
       "      <td>KN62F39EUZ</td>\n",
       "      <td>0.598491</td>\n",
       "      <td>1.196983</td>\n",
       "    </tr>\n",
       "    <tr>\n",
       "      <th>9999998</th>\n",
       "      <td>QIM84DT9TB</td>\n",
       "      <td>J1191J1FI2</td>\n",
       "      <td>0.566221</td>\n",
       "      <td>1.132442</td>\n",
       "    </tr>\n",
       "    <tr>\n",
       "      <th>9999999</th>\n",
       "      <td>LJ0JFI3SGC</td>\n",
       "      <td>1XIHOYFXB7</td>\n",
       "      <td>0.545613</td>\n",
       "      <td>1.091227</td>\n",
       "    </tr>\n",
       "  </tbody>\n",
       "</table>\n",
       "<p>10000000 rows × 4 columns</p>\n",
       "</div>"
      ],
      "text/plain": [
       "        grouping_column_10 grouping_column_100_000  numeric_column  new_column\n",
       "0               QIM84DT9TB              QX76M5N43S        0.509679    1.019359\n",
       "1               8PXRBDCFUN              NP0HS20JV9        0.885924    1.771848\n",
       "2               YDC0K8AGOQ              XDDEE73H94        0.416197    0.832393\n",
       "3               8PXRBDCFUN              FHOQ7PWKZR        0.222763    0.445525\n",
       "4               1UECMMRD77              6BZKO2TMZH        0.495821    0.991641\n",
       "...                    ...                     ...             ...         ...\n",
       "9999995         ZK2L6I5T5R              CFKIC8DOZI        0.908071    1.816141\n",
       "9999996         8PXRBDCFUN              3XOBX33OK5        0.201978    0.403956\n",
       "9999997         ZK2L6I5T5R              KN62F39EUZ        0.598491    1.196983\n",
       "9999998         QIM84DT9TB              J1191J1FI2        0.566221    1.132442\n",
       "9999999         LJ0JFI3SGC              1XIHOYFXB7        0.545613    1.091227\n",
       "\n",
       "[10000000 rows x 4 columns]"
      ]
     },
     "execution_count": 27,
     "metadata": {},
     "output_type": "execute_result"
    }
   ],
   "source": [
    "%%time\n",
    "lib.read(sym).data.assign(new_column = lambda x: x['numeric_column'] * 2)"
   ]
  },
  {
   "cell_type": "markdown",
   "id": "299a9120-2424-4c60-be5b-35efc64f8d04",
   "metadata": {},
   "source": [
    "## Groupby"
   ]
  },
  {
   "cell_type": "code",
   "execution_count": 29,
   "id": "bb77b83c-0765-42ad-90a5-850fc6179770",
   "metadata": {},
   "outputs": [],
   "source": [
    "q = adb.QueryBuilder()\n",
    "q = q.groupby(\"grouping_column_10\").agg({\"numeric_column\": \"mean\"})"
   ]
  },
  {
   "cell_type": "markdown",
   "id": "3187a459-5cff-4c2b-b05f-bd05c38c9bf0",
   "metadata": {},
   "source": [
    "### Small number of things to group by"
   ]
  },
  {
   "cell_type": "code",
   "execution_count": 30,
   "id": "5eae2e32-d431-47c8-a925-35c3db81abd3",
   "metadata": {},
   "outputs": [
    {
     "name": "stdout",
     "output_type": "stream",
     "text": [
      "CPU times: user 527 ms, sys: 315 ms, total: 843 ms\n",
      "Wall time: 163 ms\n"
     ]
    },
    {
     "data": {
      "text/plain": [
       "VersionedItem(symbol='demo_10M', library='sample', data=<class 'pandas.core.frame.DataFrame'>, version=0, metadata=None, host='LMDB(path=/home/quantfiction/repositories/crypto_trading/notebooks/arcticdb_demo)', timestamp=1717791306196657390)"
      ]
     },
     "execution_count": 30,
     "metadata": {},
     "output_type": "execute_result"
    }
   ],
   "source": [
    "%%time\n",
    "lib.read(sym, query_builder=q)"
   ]
  },
  {
   "cell_type": "code",
   "execution_count": 32,
   "id": "6c12bce0-3aae-4d5c-b760-4306f7560d4f",
   "metadata": {},
   "outputs": [
    {
     "name": "stdout",
     "output_type": "stream",
     "text": [
      "CPU times: user 1.39 s, sys: 709 ms, total: 2.09 s\n",
      "Wall time: 1.71 s\n"
     ]
    },
    {
     "data": {
      "text/html": [
       "<div>\n",
       "<style scoped>\n",
       "    .dataframe tbody tr th:only-of-type {\n",
       "        vertical-align: middle;\n",
       "    }\n",
       "\n",
       "    .dataframe tbody tr th {\n",
       "        vertical-align: top;\n",
       "    }\n",
       "\n",
       "    .dataframe thead th {\n",
       "        text-align: right;\n",
       "    }\n",
       "</style>\n",
       "<table border=\"1\" class=\"dataframe\">\n",
       "  <thead>\n",
       "    <tr style=\"text-align: right;\">\n",
       "      <th></th>\n",
       "      <th>numeric_column</th>\n",
       "    </tr>\n",
       "    <tr>\n",
       "      <th>grouping_column_10</th>\n",
       "      <th></th>\n",
       "    </tr>\n",
       "  </thead>\n",
       "  <tbody>\n",
       "    <tr>\n",
       "      <th>1UECMMRD77</th>\n",
       "      <td>0.500001</td>\n",
       "    </tr>\n",
       "    <tr>\n",
       "      <th>8PXRBDCFUN</th>\n",
       "      <td>0.499829</td>\n",
       "    </tr>\n",
       "    <tr>\n",
       "      <th>DUM17WIPQT</th>\n",
       "      <td>0.499888</td>\n",
       "    </tr>\n",
       "    <tr>\n",
       "      <th>I5KMQNY1QL</th>\n",
       "      <td>0.500004</td>\n",
       "    </tr>\n",
       "    <tr>\n",
       "      <th>K15PAY160I</th>\n",
       "      <td>0.500026</td>\n",
       "    </tr>\n",
       "    <tr>\n",
       "      <th>LJ0JFI3SGC</th>\n",
       "      <td>0.499989</td>\n",
       "    </tr>\n",
       "    <tr>\n",
       "      <th>PZA6Z2CNED</th>\n",
       "      <td>0.500175</td>\n",
       "    </tr>\n",
       "    <tr>\n",
       "      <th>QIM84DT9TB</th>\n",
       "      <td>0.500259</td>\n",
       "    </tr>\n",
       "    <tr>\n",
       "      <th>YDC0K8AGOQ</th>\n",
       "      <td>0.499999</td>\n",
       "    </tr>\n",
       "    <tr>\n",
       "      <th>ZK2L6I5T5R</th>\n",
       "      <td>0.499783</td>\n",
       "    </tr>\n",
       "  </tbody>\n",
       "</table>\n",
       "</div>"
      ],
      "text/plain": [
       "                    numeric_column\n",
       "grouping_column_10                \n",
       "1UECMMRD77                0.500001\n",
       "8PXRBDCFUN                0.499829\n",
       "DUM17WIPQT                0.499888\n",
       "I5KMQNY1QL                0.500004\n",
       "K15PAY160I                0.500026\n",
       "LJ0JFI3SGC                0.499989\n",
       "PZA6Z2CNED                0.500175\n",
       "QIM84DT9TB                0.500259\n",
       "YDC0K8AGOQ                0.499999\n",
       "ZK2L6I5T5R                0.499783"
      ]
     },
     "execution_count": 32,
     "metadata": {},
     "output_type": "execute_result"
    }
   ],
   "source": [
    "%%time\n",
    "lib.read(sym).data.groupby('grouping_column_10').agg({'numeric_column':'mean'})"
   ]
  },
  {
   "cell_type": "markdown",
   "id": "aaa2d1cc-9ab6-48d7-a408-78d5e92356eb",
   "metadata": {},
   "source": [
    "### Large number of things to group by"
   ]
  },
  {
   "cell_type": "code",
   "execution_count": 33,
   "id": "f66835dd-b561-4d09-849f-77c35fd8d9b5",
   "metadata": {},
   "outputs": [],
   "source": [
    "q = adb.QueryBuilder()\n",
    "q = q.groupby(\"grouping_column_100_000\").agg({\"numeric_column\": \"mean\"})"
   ]
  },
  {
   "cell_type": "code",
   "execution_count": 34,
   "id": "0dd5eeda-41c2-4456-a9f8-4cd5549ea70a",
   "metadata": {},
   "outputs": [
    {
     "name": "stdout",
     "output_type": "stream",
     "text": [
      "CPU times: user 2.04 s, sys: 307 ms, total: 2.34 s\n",
      "Wall time: 391 ms\n"
     ]
    },
    {
     "data": {
      "text/plain": [
       "VersionedItem(symbol='demo_10M', library='sample', data=<class 'pandas.core.frame.DataFrame'>, version=0, metadata=None, host='LMDB(path=/home/quantfiction/repositories/crypto_trading/notebooks/arcticdb_demo)', timestamp=1717791306196657390)"
      ]
     },
     "execution_count": 34,
     "metadata": {},
     "output_type": "execute_result"
    }
   ],
   "source": [
    "%%time\n",
    "lib.read(sym, query_builder=q)"
   ]
  },
  {
   "cell_type": "code",
   "execution_count": 35,
   "id": "a97c04f7-5588-40ef-975d-f43fc3f1ed20",
   "metadata": {},
   "outputs": [
    {
     "name": "stdout",
     "output_type": "stream",
     "text": [
      "CPU times: user 2.59 s, sys: 808 ms, total: 3.39 s\n",
      "Wall time: 3.02 s\n"
     ]
    },
    {
     "data": {
      "text/html": [
       "<div>\n",
       "<style scoped>\n",
       "    .dataframe tbody tr th:only-of-type {\n",
       "        vertical-align: middle;\n",
       "    }\n",
       "\n",
       "    .dataframe tbody tr th {\n",
       "        vertical-align: top;\n",
       "    }\n",
       "\n",
       "    .dataframe thead th {\n",
       "        text-align: right;\n",
       "    }\n",
       "</style>\n",
       "<table border=\"1\" class=\"dataframe\">\n",
       "  <thead>\n",
       "    <tr style=\"text-align: right;\">\n",
       "      <th></th>\n",
       "      <th>numeric_column</th>\n",
       "    </tr>\n",
       "    <tr>\n",
       "      <th>grouping_column_100_000</th>\n",
       "      <th></th>\n",
       "    </tr>\n",
       "  </thead>\n",
       "  <tbody>\n",
       "    <tr>\n",
       "      <th>000KPMWJ8I</th>\n",
       "      <td>0.436089</td>\n",
       "    </tr>\n",
       "    <tr>\n",
       "      <th>0020VTY9LQ</th>\n",
       "      <td>0.508949</td>\n",
       "    </tr>\n",
       "    <tr>\n",
       "      <th>002GBLJ69C</th>\n",
       "      <td>0.508370</td>\n",
       "    </tr>\n",
       "    <tr>\n",
       "      <th>002I509L29</th>\n",
       "      <td>0.463328</td>\n",
       "    </tr>\n",
       "    <tr>\n",
       "      <th>003BA0CDUL</th>\n",
       "      <td>0.489452</td>\n",
       "    </tr>\n",
       "    <tr>\n",
       "      <th>...</th>\n",
       "      <td>...</td>\n",
       "    </tr>\n",
       "    <tr>\n",
       "      <th>ZZY5DY6NWN</th>\n",
       "      <td>0.514540</td>\n",
       "    </tr>\n",
       "    <tr>\n",
       "      <th>ZZYZRJ4TNW</th>\n",
       "      <td>0.480418</td>\n",
       "    </tr>\n",
       "    <tr>\n",
       "      <th>ZZZ1XJJ91S</th>\n",
       "      <td>0.457022</td>\n",
       "    </tr>\n",
       "    <tr>\n",
       "      <th>ZZZ6WF95O1</th>\n",
       "      <td>0.537931</td>\n",
       "    </tr>\n",
       "    <tr>\n",
       "      <th>ZZZS8J4T0F</th>\n",
       "      <td>0.520465</td>\n",
       "    </tr>\n",
       "  </tbody>\n",
       "</table>\n",
       "<p>100000 rows × 1 columns</p>\n",
       "</div>"
      ],
      "text/plain": [
       "                         numeric_column\n",
       "grouping_column_100_000                \n",
       "000KPMWJ8I                     0.436089\n",
       "0020VTY9LQ                     0.508949\n",
       "002GBLJ69C                     0.508370\n",
       "002I509L29                     0.463328\n",
       "003BA0CDUL                     0.489452\n",
       "...                                 ...\n",
       "ZZY5DY6NWN                     0.514540\n",
       "ZZYZRJ4TNW                     0.480418\n",
       "ZZZ1XJJ91S                     0.457022\n",
       "ZZZ6WF95O1                     0.537931\n",
       "ZZZS8J4T0F                     0.520465\n",
       "\n",
       "[100000 rows x 1 columns]"
      ]
     },
     "execution_count": 35,
     "metadata": {},
     "output_type": "execute_result"
    }
   ],
   "source": [
    "%%time\n",
    "lib.read(sym).data.groupby('grouping_column_100_000').agg({'numeric_column':'mean'})"
   ]
  },
  {
   "cell_type": "markdown",
   "id": "17f84a9b-421d-4d84-90b2-05e23124e8ab",
   "metadata": {},
   "source": [
    "## Combinations"
   ]
  },
  {
   "cell_type": "code",
   "execution_count": 36,
   "id": "ee6cbcba-2a3c-4ae4-8770-52b4a6249de7",
   "metadata": {},
   "outputs": [],
   "source": [
    "q = adb.QueryBuilder()\n",
    "q = (\n",
    "    q[q[\"numeric_column\"] < 0.1]\n",
    "    .apply(\"new_column\", q[\"numeric_column\"] * 2.0)\n",
    "    .groupby(\"grouping_column_10\")\n",
    "    .agg({\"numeric_column\": \"mean\", \"new_column\": \"max\"})\n",
    ")"
   ]
  },
  {
   "cell_type": "code",
   "execution_count": 38,
   "id": "4f46fe23-8ed7-4405-9399-66a5693b0d04",
   "metadata": {},
   "outputs": [
    {
     "name": "stdout",
     "output_type": "stream",
     "text": [
      "CPU times: user 293 ms, sys: 196 ms, total: 489 ms\n",
      "Wall time: 77.7 ms\n"
     ]
    },
    {
     "data": {
      "text/html": [
       "<div>\n",
       "<style scoped>\n",
       "    .dataframe tbody tr th:only-of-type {\n",
       "        vertical-align: middle;\n",
       "    }\n",
       "\n",
       "    .dataframe tbody tr th {\n",
       "        vertical-align: top;\n",
       "    }\n",
       "\n",
       "    .dataframe thead th {\n",
       "        text-align: right;\n",
       "    }\n",
       "</style>\n",
       "<table border=\"1\" class=\"dataframe\">\n",
       "  <thead>\n",
       "    <tr style=\"text-align: right;\">\n",
       "      <th></th>\n",
       "      <th>numeric_column</th>\n",
       "      <th>new_column</th>\n",
       "    </tr>\n",
       "    <tr>\n",
       "      <th>grouping_column_10</th>\n",
       "      <th></th>\n",
       "      <th></th>\n",
       "    </tr>\n",
       "  </thead>\n",
       "  <tbody>\n",
       "    <tr>\n",
       "      <th>1UECMMRD77</th>\n",
       "      <td>0.049878</td>\n",
       "      <td>0.200000</td>\n",
       "    </tr>\n",
       "    <tr>\n",
       "      <th>K15PAY160I</th>\n",
       "      <td>0.050186</td>\n",
       "      <td>0.199998</td>\n",
       "    </tr>\n",
       "    <tr>\n",
       "      <th>I5KMQNY1QL</th>\n",
       "      <td>0.049830</td>\n",
       "      <td>0.199995</td>\n",
       "    </tr>\n",
       "    <tr>\n",
       "      <th>PZA6Z2CNED</th>\n",
       "      <td>0.049905</td>\n",
       "      <td>0.199998</td>\n",
       "    </tr>\n",
       "    <tr>\n",
       "      <th>ZK2L6I5T5R</th>\n",
       "      <td>0.049908</td>\n",
       "      <td>0.199998</td>\n",
       "    </tr>\n",
       "    <tr>\n",
       "      <th>QIM84DT9TB</th>\n",
       "      <td>0.050015</td>\n",
       "      <td>0.199994</td>\n",
       "    </tr>\n",
       "    <tr>\n",
       "      <th>YDC0K8AGOQ</th>\n",
       "      <td>0.049976</td>\n",
       "      <td>0.199999</td>\n",
       "    </tr>\n",
       "    <tr>\n",
       "      <th>LJ0JFI3SGC</th>\n",
       "      <td>0.049939</td>\n",
       "      <td>0.199996</td>\n",
       "    </tr>\n",
       "    <tr>\n",
       "      <th>DUM17WIPQT</th>\n",
       "      <td>0.049767</td>\n",
       "      <td>0.199997</td>\n",
       "    </tr>\n",
       "    <tr>\n",
       "      <th>8PXRBDCFUN</th>\n",
       "      <td>0.050113</td>\n",
       "      <td>0.199998</td>\n",
       "    </tr>\n",
       "  </tbody>\n",
       "</table>\n",
       "</div>"
      ],
      "text/plain": [
       "                    numeric_column  new_column\n",
       "grouping_column_10                            \n",
       "1UECMMRD77                0.049878    0.200000\n",
       "K15PAY160I                0.050186    0.199998\n",
       "I5KMQNY1QL                0.049830    0.199995\n",
       "PZA6Z2CNED                0.049905    0.199998\n",
       "ZK2L6I5T5R                0.049908    0.199998\n",
       "QIM84DT9TB                0.050015    0.199994\n",
       "YDC0K8AGOQ                0.049976    0.199999\n",
       "LJ0JFI3SGC                0.049939    0.199996\n",
       "DUM17WIPQT                0.049767    0.199997\n",
       "8PXRBDCFUN                0.050113    0.199998"
      ]
     },
     "execution_count": 38,
     "metadata": {},
     "output_type": "execute_result"
    }
   ],
   "source": [
    "%%time\n",
    "lib.read(sym, query_builder=q).data"
   ]
  },
  {
   "cell_type": "code",
   "execution_count": 39,
   "id": "6beb588e-e101-4eae-99ca-dae77fc29883",
   "metadata": {},
   "outputs": [
    {
     "data": {
      "text/plain": [
       "'QIM84DT9TB'"
      ]
     },
     "execution_count": 39,
     "metadata": {},
     "output_type": "execute_result"
    }
   ],
   "source": [
    "ten_grouping_values[0]"
   ]
  },
  {
   "cell_type": "code",
   "execution_count": 40,
   "id": "fa13adbc-ad47-4d07-9495-1cb4073d03ca",
   "metadata": {},
   "outputs": [],
   "source": [
    "q = adb.QueryBuilder()\n",
    "\n",
    "q = q[q['grouping_column_10'] == ten_grouping_values[0]]"
   ]
  },
  {
   "cell_type": "code",
   "execution_count": 41,
   "id": "9724b9c0-ca44-41ea-9dd8-c45479f03676",
   "metadata": {},
   "outputs": [
    {
     "name": "stdout",
     "output_type": "stream",
     "text": [
      "CPU times: user 501 ms, sys: 305 ms, total: 806 ms\n",
      "Wall time: 271 ms\n"
     ]
    },
    {
     "data": {
      "text/plain": [
       "VersionedItem(symbol='demo_10M', library='sample', data=<class 'pandas.core.frame.DataFrame'>, version=0, metadata=None, host='LMDB(path=/home/quantfiction/repositories/crypto_trading/notebooks/arcticdb_demo)', timestamp=1717791306196657390)"
      ]
     },
     "execution_count": 41,
     "metadata": {},
     "output_type": "execute_result"
    }
   ],
   "source": [
    "%%time \n",
    "lib.read(sym, query_builder=q)"
   ]
  },
  {
   "cell_type": "code",
   "execution_count": null,
   "id": "65742de6-d4d2-4e70-8131-1433f2b2f08f",
   "metadata": {},
   "outputs": [],
   "source": []
  }
 ],
 "metadata": {
  "kernelspec": {
   "display_name": "Python 3 (ipykernel)",
   "language": "python",
   "name": "python3"
  },
  "language_info": {
   "codemirror_mode": {
    "name": "ipython",
    "version": 3
   },
   "file_extension": ".py",
   "mimetype": "text/x-python",
   "name": "python",
   "nbconvert_exporter": "python",
   "pygments_lexer": "ipython3",
   "version": "3.11.2"
  }
 },
 "nbformat": 4,
 "nbformat_minor": 5
}
