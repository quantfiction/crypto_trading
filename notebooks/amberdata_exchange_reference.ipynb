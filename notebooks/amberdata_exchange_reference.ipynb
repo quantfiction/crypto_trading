{
 "cells": [
  {
   "cell_type": "markdown",
   "id": "f9ea619e-131c-4c7f-ac90-803e940f7f61",
   "metadata": {},
   "source": [
    "# Imports"
   ]
  },
  {
   "cell_type": "code",
   "execution_count": 30,
   "id": "93e863be-5bf6-4753-a5a0-2f16de6feb7c",
   "metadata": {},
   "outputs": [],
   "source": [
    "import duckdb\n",
    "import dtale\n",
    "import pandas as pd\n",
    "import requests\n",
    "import re\n"
   ]
  },
  {
   "cell_type": "code",
   "execution_count": 2,
   "id": "f5cd1d15-f215-4e84-9259-70b0d9b88ce9",
   "metadata": {},
   "outputs": [],
   "source": [
    "from dotenv import dotenv_values, find_dotenv\n",
    "from pathlib import Path"
   ]
  },
  {
   "cell_type": "markdown",
   "id": "e01ba165-73de-4ddb-a1ec-241e6e192642",
   "metadata": {},
   "source": [
    "# Config"
   ]
  },
  {
   "cell_type": "markdown",
   "id": "dc443424-750c-45d4-9cdf-aeec0474d82c",
   "metadata": {},
   "source": [
    "## Data Paths"
   ]
  },
  {
   "cell_type": "code",
   "execution_count": 3,
   "id": "44202986-4b54-4f91-bdcb-db8c8635b290",
   "metadata": {},
   "outputs": [],
   "source": [
    "path_data = Path() / '..' / 'data'\n",
    "path_data_raw = path_data / 'raw'"
   ]
  },
  {
   "cell_type": "markdown",
   "id": "6a621246-cd58-4542-9468-403a5f41f1ad",
   "metadata": {},
   "source": [
    "## Credentials"
   ]
  },
  {
   "cell_type": "code",
   "execution_count": 4,
   "id": "1d1a5db9-2a72-410d-a8b4-7047fa69e183",
   "metadata": {},
   "outputs": [],
   "source": [
    "config = dotenv_values(find_dotenv())\n",
    "ad_api_key = config.get('AMBERDATA_API_KEY')"
   ]
  },
  {
   "cell_type": "markdown",
   "id": "e6812e85-2f9b-4f40-8986-cc3dbefc9db1",
   "metadata": {},
   "source": [
    "# Helper Functions"
   ]
  },
  {
   "cell_type": "code",
   "execution_count": 38,
   "id": "0716373c-d4a6-4e04-bccb-e368a642eab0",
   "metadata": {},
   "outputs": [],
   "source": [
    "def camel_to_snake(name):\n",
    "    return re.sub(r'(?<!^)(?=[A-Z])', '_', name).lower()\n",
    "\n",
    "def convert_df_columns_to_snake_case(df):\n",
    "    df.columns = [camel_to_snake(col) for col in df.columns]\n",
    "    return df\n",
    "\n",
    "def convert_df_columns_to_datetime(df, columns, unit='ms'):\n",
    "    for column in columns:\n",
    "        df[column] = pd.to_datetime(df[column], unit=unit)\n",
    "\n",
    "    return df"
   ]
  },
  {
   "cell_type": "markdown",
   "id": "8cbd4bc1-9b16-4a2b-8b8e-9125f9ea5986",
   "metadata": {},
   "source": [
    "# Get Data"
   ]
  },
  {
   "cell_type": "code",
   "execution_count": 5,
   "id": "d1a9fffb-a8c9-4249-89e2-a059f66a6fa3",
   "metadata": {},
   "outputs": [],
   "source": [
    "headers = {\n",
    "    \"accept\": \"application/json\",\n",
    "    'Accept-Encoding': 'gzip, deflate, br',\n",
    "    \"x-api-key\": ad_api_key\n",
    "}"
   ]
  },
  {
   "cell_type": "code",
   "execution_count": 6,
   "id": "c916a8fe-4c65-45a7-92db-e737fc78dd65",
   "metadata": {},
   "outputs": [
    {
     "name": "stdout",
     "output_type": "stream",
     "text": [
      "https://api.amberdata.com/markets/futures/exchanges/reference\n",
      "https://api.amberdata.com/markets/futures/exchanges/reference?cursor=N4IgpgHgxgFghgOwOZhALhAIwJYMVMAGkwE8cAXEQkXKAGwFcATMASTynOwDdU1yATgyI0E9ZmADyA7Elxw6AJTAAzMALBi%2BKhQGcRtRiwCqCXQwAOFgPYDyYJgFFo8ZGF3oddfdS4BbMAAxWz84Sgw-bDo6bH0oawQmD2oVELD0EAArXQSqEAs4FHQARmpdbAAvPgBWAAZagF8gA\n",
      "https://api.amberdata.com/markets/futures/exchanges/reference?cursor=N4IgpgHgxgFghgOwOZhALhAIwJYMVMAGkwE8cAXEQkXKAGwFcATMASTynOwDdU1yATgyI0E9ZmADyA7Elxw6AJTAAzMALBi%2BKhQGcRtRiwCqCXQwAOFgPYDyYJgFFo8ZGF3oddfdS4BbMAAxWz84Sgw-bDo6bH0oawQmD2oVELD0EAArXQSqEAs4FHQAJmpdbAAvPgBWAAZagF8gA\n",
      "https://api.amberdata.com/markets/futures/exchanges/reference?cursor=N4IgpgHgxgFghgOwOZhALhAIwJYMVMAGkwE8cAXEQkXKAGwFcATMASTynOwDdU1yATgyI0E9ZmADyA7Elxw6AJTAAzMALBi%2BKhQGcRtRiwCqCXQwAOFgPYDyYJgFFo8ZGF3oddfdS4BbMAAxWz84Sgw-bDo6bH0oawQmD2oVELD0EAArXQSqEAs4FHQAZmpdbAAvPgBWAAZagF8gA\n"
     ]
    }
   ],
   "source": [
    "url = \"https://api.amberdata.com/markets/futures/exchanges/reference\"\n",
    "params = {\n",
    "    'exchange':'binance,bybit',\n",
    "    'includeInactive':'true',\n",
    "}\n",
    "\n",
    "list_instruments = []\n",
    "while url is not None:\n",
    "    print(url)\n",
    "    try:\n",
    "        response = requests.get(url, headers=headers, params=params)\n",
    "        payload = response.json().get('payload', {})\n",
    "        metadata = payload.get('metadata', {})\n",
    "        data = payload.get('data', {})\n",
    "        chunk_instruments = pd.DataFrame(data)\n",
    "        list_instruments.append(chunk_instruments)\n",
    "        url = metadata.get('next', None)\n",
    "    except Exception as e:\n",
    "        print(e)"
   ]
  },
  {
   "cell_type": "code",
   "execution_count": 39,
   "id": "e16245a9-6276-4c68-86ac-e7d86107ea39",
   "metadata": {},
   "outputs": [
    {
     "name": "stderr",
     "output_type": "stream",
     "text": [
      "/tmp/ipykernel_1240048/4265807693.py:4: FutureWarning:\n",
      "\n",
      "The behavior of DataFrame concatenation with empty or all-NA entries is deprecated. In a future version, this will no longer exclude empty or all-NA columns when determining the result dtypes. To retain the old behavior, exclude the relevant entries before the concat operation.\n",
      "\n"
     ]
    }
   ],
   "source": [
    "datetime_cols = ['listing_timestamp', 'contract_expiration_timestamp']\n",
    "\n",
    "df_instruments = (\n",
    "    pd.concat(list_instruments, axis=0)\n",
    "    .pipe(convert_df_columns_to_snake_case)\n",
    "    .pipe(convert_df_columns_to_datetime, columns=datetime_cols)\n",
    ")"
   ]
  },
  {
   "cell_type": "markdown",
   "id": "eace02d1-36b7-49ef-9374-0d3459d75d8b",
   "metadata": {},
   "source": [
    "# Ingest Data"
   ]
  },
  {
   "cell_type": "code",
   "execution_count": 42,
   "id": "7b681309-78c8-43a7-a04d-b14e5c9f6057",
   "metadata": {},
   "outputs": [],
   "source": [
    "conn = duckdb.connect(path_data / \"crypto_data.db\")"
   ]
  },
  {
   "cell_type": "code",
   "execution_count": 50,
   "id": "755f6bdc-aa98-4ae2-95dd-615c31593a2d",
   "metadata": {},
   "outputs": [
    {
     "data": {
      "text/plain": [
       "<duckdb.duckdb.DuckDBPyConnection at 0x7941a86bb9b0>"
      ]
     },
     "execution_count": 50,
     "metadata": {},
     "output_type": "execute_result"
    }
   ],
   "source": [
    "conn.execute(\"DROP TABLE IF EXISTS amberdata.exchange_reference\")\n",
    "conn.register(\"temp_df\", df_instruments)\n",
    "conn.execute(\"\"\"\n",
    "    CREATE TABLE amberdata.exchange_reference AS\n",
    "    SELECT * FROM temp_df\n",
    "    ORDER BY exchange, instrument\n",
    "\"\"\")"
   ]
  },
  {
   "cell_type": "code",
   "execution_count": 55,
   "id": "d58509ea-63b1-4972-a349-34b280c8551b",
   "metadata": {},
   "outputs": [],
   "source": [
    "result = conn.execute(\"\"\"\n",
    "    SELECT \n",
    "        exchange,\n",
    "        instrument,\n",
    "    FROM amberdata.exchange_reference\n",
    "    WHERE \n",
    "        contract_period = 'perpetual'\n",
    "        AND quote_symbol = 'USDT'\n",
    "        AND exchange_enabled = True\n",
    "\"\"\").fetchdf()"
   ]
  },
  {
   "cell_type": "code",
   "execution_count": 59,
   "id": "0cb407c4-34a2-4dfa-b41b-5a31a68a45ed",
   "metadata": {},
   "outputs": [
    {
     "name": "stderr",
     "output_type": "stream",
     "text": [
      "2025-01-14 13:28:04,695 - INFO     - Executing shutdown due to inactivity...\n",
      "2025-01-14 13:28:04,703 - INFO     - Executing shutdown...\n",
      "2025-01-14 13:28:04,704 - INFO     - Not running with the Werkzeug Server, exiting by searching gc for BaseWSGIServer\n"
     ]
    }
   ],
   "source": [
    "conn.close()"
   ]
  },
  {
   "cell_type": "code",
   "execution_count": null,
   "id": "e3611069-4b99-44bf-b829-f92417db5eb8",
   "metadata": {},
   "outputs": [],
   "source": []
  }
 ],
 "metadata": {
  "kernelspec": {
   "display_name": "Python 3 (ipykernel)",
   "language": "python",
   "name": "python3"
  },
  "language_info": {
   "codemirror_mode": {
    "name": "ipython",
    "version": 3
   },
   "file_extension": ".py",
   "mimetype": "text/x-python",
   "name": "python",
   "nbconvert_exporter": "python",
   "pygments_lexer": "ipython3",
   "version": "3.11.2"
  }
 },
 "nbformat": 4,
 "nbformat_minor": 5
}
