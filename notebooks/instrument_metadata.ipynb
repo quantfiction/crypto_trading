{
 "cells": [
  {
   "cell_type": "markdown",
   "id": "fb2aaeae-7a51-4514-9f1b-7539fbe295da",
   "metadata": {},
   "source": [
    "# Imports"
   ]
  },
  {
   "cell_type": "code",
   "execution_count": 1,
   "id": "c71df050-ffbe-46f2-965e-0c3b1b11e898",
   "metadata": {},
   "outputs": [],
   "source": [
    "import pandas as pd, numpy as np\n",
    "import requests\n",
    "from urllib.parse import urljoin\n",
    "\n",
    "from dotenv import dotenv_values, find_dotenv\n",
    "from crypto_trading.amberdata import get_exchange_reference_futures, get_ohlcv_info_futures"
   ]
  },
  {
   "cell_type": "code",
   "execution_count": 2,
   "id": "1564fb6f-ea50-4a39-af5f-434801427872",
   "metadata": {},
   "outputs": [],
   "source": [
    "%load_ext autoreload\n",
    "%autoreload 2"
   ]
  },
  {
   "cell_type": "markdown",
   "id": "3fc58265-9e81-41bb-a28b-8c1cc8bcc9ea",
   "metadata": {},
   "source": [
    "# Config / Params"
   ]
  },
  {
   "cell_type": "markdown",
   "id": "c73ec71f-ae43-4440-905f-4a62b2279928",
   "metadata": {},
   "source": [
    "## Credentials"
   ]
  },
  {
   "cell_type": "code",
   "execution_count": 2,
   "id": "2cbd25c8-d737-41fd-be49-7cc296c9dcc6",
   "metadata": {},
   "outputs": [],
   "source": [
    "config = dotenv_values(find_dotenv())\n",
    "\n",
    "ad_api_key = config.get('AMBERDATA_API_KEY')"
   ]
  },
  {
   "cell_type": "markdown",
   "id": "61faea48-d4db-46d1-91aa-efe68cf5a4e8",
   "metadata": {},
   "source": [
    "## API Params"
   ]
  },
  {
   "cell_type": "code",
   "execution_count": 6,
   "id": "e03d0de8-69c8-448b-b6f1-dbbb0aa8a255",
   "metadata": {},
   "outputs": [],
   "source": [
    "headers = {\n",
    "    'accept':'application/json',\n",
    "    'x-api-key':ad_api_key,\n",
    "}\n",
    "\n",
    "ad_base_url = 'https://api.amberdata.com'"
   ]
  },
  {
   "cell_type": "code",
   "execution_count": 7,
   "id": "992210f8-d1b8-4424-b13e-b1319115abc6",
   "metadata": {},
   "outputs": [],
   "source": [
    "endpoint = 'market/futures/ohlcv/information'"
   ]
  },
  {
   "cell_type": "markdown",
   "id": "2492bbca-45e6-4ede-a037-b16ebc36f305",
   "metadata": {},
   "source": [
    "# Get Instrument Data"
   ]
  },
  {
   "cell_type": "markdown",
   "id": "ce48f517-51e4-428f-a2c1-4ee01a901b58",
   "metadata": {},
   "source": [
    "## Get All Symbol Metadata"
   ]
  },
  {
   "cell_type": "code",
   "execution_count": 39,
   "id": "ff02f4eb-1645-4ce4-ae79-58fb05c6b4a8",
   "metadata": {},
   "outputs": [],
   "source": [
    "endpoint_exchange_reference = 'market/futures/exchanges/reference'\n",
    "url_exchange_reference = urljoin(ad_base_url, endpoint_exchange_reference)\n",
    "\n",
    "params = {\n",
    "    'exchange':'binance',\n",
    "    'includeInactive':'true',\n",
    "}\n",
    "\n",
    "with requests.Session() as session:\n",
    "    session.headers.update(headers)\n",
    "\n",
    "    list_instruments = []\n",
    "    while url_exchange_reference is not None:\n",
    "        response = session.get(url_exchange_reference, params=params)\n",
    "        payload = response.json().get('payload', {})\n",
    "        metadata = payload.get('metadata', {})\n",
    "        data = payload.get('data', {})\n",
    "\n",
    "        list_instruments.extend(\n",
    "            pd.DataFrame(\n",
    "                [{'instrument': instrument, **data_exchange[instrument]} for instrument in data_exchange.keys()]\n",
    "            ).assign(exchange=exchange)\n",
    "            for exchange, data_exchange in data.items()\n",
    "        )\n",
    "\n",
    "        url_exchange_reference = metadata.get('next', None)\n",
    "\n",
    "df_exchange_reference = pd.concat(list_instruments, axis=0)"
   ]
  },
  {
   "cell_type": "markdown",
   "id": "786ebcef-8b93-45c6-9a02-00cd9bb4a54e",
   "metadata": {},
   "source": [
    "## Get First/Last Data"
   ]
  },
  {
   "cell_type": "markdown",
   "id": "7be1e847-2cd7-4b75-9981-da2ffd7ab47a",
   "metadata": {},
   "source": [
    "### Params"
   ]
  },
  {
   "cell_type": "code",
   "execution_count": 53,
   "id": "dd1a906c-132e-43ec-a26c-bdc742b35a18",
   "metadata": {},
   "outputs": [],
   "source": [
    "endpoint_ohlcv_info = 'market/futures/ohlcv/information'\n",
    "url_ohlcv_info = urljoin(ad_base_url, endpoint_ohlcv_info)\n",
    "\n",
    "params = {\n",
    "    'exchange':'binance',\n",
    "    'includeInactive':'true',\n",
    "}\n",
    "\n",
    "with requests.Session() as session:\n",
    "    session.headers.update(headers)\n",
    "\n",
    "    list_instruments = []\n",
    "    while url_ohlcv_info is not None:\n",
    "        response = session.get(url_ohlcv_info, params=params)\n",
    "        payload = response.json().get('payload', {})\n",
    "        metadata = payload.get('metadata', {})\n",
    "        data = payload.get('data', {})\n",
    "\n",
    "        list_instruments.append(pd.DataFrame(data))\n",
    "\n",
    "        url_ohlcv_info = metadata.get('next', None)\n",
    "\n",
    "df_ohlcv_info = pd.concat(list_instruments, axis=0)"
   ]
  },
  {
   "cell_type": "code",
   "execution_count": 54,
   "id": "c50ae0ce-4094-4f64-b211-d56941e1627d",
   "metadata": {
    "scrolled": true
   },
   "outputs": [
    {
     "data": {
      "text/html": [
       "<div>\n",
       "<style scoped>\n",
       "    .dataframe tbody tr th:only-of-type {\n",
       "        vertical-align: middle;\n",
       "    }\n",
       "\n",
       "    .dataframe tbody tr th {\n",
       "        vertical-align: top;\n",
       "    }\n",
       "\n",
       "    .dataframe thead th {\n",
       "        text-align: right;\n",
       "    }\n",
       "</style>\n",
       "<table border=\"1\" class=\"dataframe\">\n",
       "  <thead>\n",
       "    <tr style=\"text-align: right;\">\n",
       "      <th></th>\n",
       "      <th>exchange</th>\n",
       "      <th>instrument</th>\n",
       "      <th>startDate</th>\n",
       "      <th>endDate</th>\n",
       "      <th>active</th>\n",
       "    </tr>\n",
       "  </thead>\n",
       "  <tbody>\n",
       "    <tr>\n",
       "      <th>0</th>\n",
       "      <td>binance</td>\n",
       "      <td>1000BONKUSDC</td>\n",
       "      <td>1.714635e+12</td>\n",
       "      <td>1718140560000</td>\n",
       "      <td>True</td>\n",
       "    </tr>\n",
       "    <tr>\n",
       "      <th>1</th>\n",
       "      <td>binance</td>\n",
       "      <td>1000BONKUSDT</td>\n",
       "      <td>1.700662e+12</td>\n",
       "      <td>1718140560000</td>\n",
       "      <td>True</td>\n",
       "    </tr>\n",
       "    <tr>\n",
       "      <th>2</th>\n",
       "      <td>binance</td>\n",
       "      <td>1000BTTCUSDT</td>\n",
       "      <td>1.643168e+12</td>\n",
       "      <td>1649667600000</td>\n",
       "      <td>False</td>\n",
       "    </tr>\n",
       "    <tr>\n",
       "      <th>3</th>\n",
       "      <td>binance</td>\n",
       "      <td>1000FLOKIUSDT</td>\n",
       "      <td>1.683391e+12</td>\n",
       "      <td>1718140560000</td>\n",
       "      <td>True</td>\n",
       "    </tr>\n",
       "    <tr>\n",
       "      <th>4</th>\n",
       "      <td>binance</td>\n",
       "      <td>1000LUNCBUSD</td>\n",
       "      <td>1.653965e+12</td>\n",
       "      <td>1686213060000</td>\n",
       "      <td>False</td>\n",
       "    </tr>\n",
       "    <tr>\n",
       "      <th>...</th>\n",
       "      <td>...</td>\n",
       "      <td>...</td>\n",
       "      <td>...</td>\n",
       "      <td>...</td>\n",
       "      <td>...</td>\n",
       "    </tr>\n",
       "    <tr>\n",
       "      <th>64</th>\n",
       "      <td>binance</td>\n",
       "      <td>ZENUSDT</td>\n",
       "      <td>1.606201e+12</td>\n",
       "      <td>1718140560000</td>\n",
       "      <td>True</td>\n",
       "    </tr>\n",
       "    <tr>\n",
       "      <th>65</th>\n",
       "      <td>binance</td>\n",
       "      <td>ZETAUSDT</td>\n",
       "      <td>1.706863e+12</td>\n",
       "      <td>1718140560000</td>\n",
       "      <td>True</td>\n",
       "    </tr>\n",
       "    <tr>\n",
       "      <th>66</th>\n",
       "      <td>binance</td>\n",
       "      <td>ZILUSDT</td>\n",
       "      <td>1.592471e+12</td>\n",
       "      <td>1718140560000</td>\n",
       "      <td>True</td>\n",
       "    </tr>\n",
       "    <tr>\n",
       "      <th>67</th>\n",
       "      <td>binance</td>\n",
       "      <td>ZILUSD_PERP</td>\n",
       "      <td>1.649302e+12</td>\n",
       "      <td>1683590400000</td>\n",
       "      <td>False</td>\n",
       "    </tr>\n",
       "    <tr>\n",
       "      <th>68</th>\n",
       "      <td>binance</td>\n",
       "      <td>ZRXUSDT</td>\n",
       "      <td>1.592989e+12</td>\n",
       "      <td>1718140560000</td>\n",
       "      <td>True</td>\n",
       "    </tr>\n",
       "  </tbody>\n",
       "</table>\n",
       "<p>569 rows × 5 columns</p>\n",
       "</div>"
      ],
      "text/plain": [
       "   exchange     instrument     startDate        endDate  active\n",
       "0   binance   1000BONKUSDC  1.714635e+12  1718140560000    True\n",
       "1   binance   1000BONKUSDT  1.700662e+12  1718140560000    True\n",
       "2   binance   1000BTTCUSDT  1.643168e+12  1649667600000   False\n",
       "3   binance  1000FLOKIUSDT  1.683391e+12  1718140560000    True\n",
       "4   binance   1000LUNCBUSD  1.653965e+12  1686213060000   False\n",
       "..      ...            ...           ...            ...     ...\n",
       "64  binance        ZENUSDT  1.606201e+12  1718140560000    True\n",
       "65  binance       ZETAUSDT  1.706863e+12  1718140560000    True\n",
       "66  binance        ZILUSDT  1.592471e+12  1718140560000    True\n",
       "67  binance    ZILUSD_PERP  1.649302e+12  1683590400000   False\n",
       "68  binance        ZRXUSDT  1.592989e+12  1718140560000    True\n",
       "\n",
       "[569 rows x 5 columns]"
      ]
     },
     "execution_count": 54,
     "metadata": {},
     "output_type": "execute_result"
    }
   ],
   "source": [
    "df_ohlcv_info"
   ]
  },
  {
   "cell_type": "code",
   "execution_count": 48,
   "id": "ec5ead3d-953d-42ca-80e2-2006f3a8c72a",
   "metadata": {},
   "outputs": [
    {
     "data": {
      "text/plain": [
       "(581, 28)"
      ]
     },
     "execution_count": 48,
     "metadata": {},
     "output_type": "execute_result"
    }
   ],
   "source": [
    "df_exchange_reference.shape"
   ]
  },
  {
   "cell_type": "code",
   "execution_count": 49,
   "id": "348f2b68-953f-4020-8a02-f17f3b94b889",
   "metadata": {},
   "outputs": [
    {
     "data": {
      "text/plain": [
       "(569, 5)"
      ]
     },
     "execution_count": 49,
     "metadata": {},
     "output_type": "execute_result"
    }
   ],
   "source": [
    "df_ohlcv_info.shape"
   ]
  },
  {
   "cell_type": "code",
   "execution_count": 50,
   "id": "5b4ee7b2-a088-4d02-a50e-3d8d3fd4771d",
   "metadata": {},
   "outputs": [
    {
     "data": {
      "text/html": [
       "<div>\n",
       "<style scoped>\n",
       "    .dataframe tbody tr th:only-of-type {\n",
       "        vertical-align: middle;\n",
       "    }\n",
       "\n",
       "    .dataframe tbody tr th {\n",
       "        vertical-align: top;\n",
       "    }\n",
       "\n",
       "    .dataframe thead th {\n",
       "        text-align: right;\n",
       "    }\n",
       "</style>\n",
       "<table border=\"1\" class=\"dataframe\">\n",
       "  <thead>\n",
       "    <tr style=\"text-align: right;\">\n",
       "      <th></th>\n",
       "      <th>instrument</th>\n",
       "      <th>nativeInstrument</th>\n",
       "      <th>nativeBaseSymbol</th>\n",
       "      <th>nativeQuoteSymbol</th>\n",
       "      <th>baseSymbol</th>\n",
       "      <th>quoteSymbol</th>\n",
       "      <th>underlying</th>\n",
       "      <th>quoteAsset</th>\n",
       "      <th>expiration</th>\n",
       "      <th>active</th>\n",
       "      <th>...</th>\n",
       "      <th>limits_market_max</th>\n",
       "      <th>limits_market_min</th>\n",
       "      <th>limits_price_max</th>\n",
       "      <th>limits_price_min</th>\n",
       "      <th>precision_amount</th>\n",
       "      <th>precision_base</th>\n",
       "      <th>precision_price</th>\n",
       "      <th>precision_quote</th>\n",
       "      <th>settleAsset</th>\n",
       "      <th>exchange</th>\n",
       "    </tr>\n",
       "  </thead>\n",
       "  <tbody>\n",
       "    <tr>\n",
       "      <th>0</th>\n",
       "      <td>1000BONKUSDC</td>\n",
       "      <td>1000BONKUSDC</td>\n",
       "      <td>1000BONK</td>\n",
       "      <td>USDC</td>\n",
       "      <td>1000BONK</td>\n",
       "      <td>USDC</td>\n",
       "      <td>1000BONK</td>\n",
       "      <td>USDC</td>\n",
       "      <td></td>\n",
       "      <td>True</td>\n",
       "      <td>...</td>\n",
       "      <td>300000</td>\n",
       "      <td>1</td>\n",
       "      <td>200</td>\n",
       "      <td>0.000001</td>\n",
       "      <td>1.0</td>\n",
       "      <td>0.0</td>\n",
       "      <td>0.000001</td>\n",
       "      <td>0.0</td>\n",
       "      <td>None</td>\n",
       "      <td>binance</td>\n",
       "    </tr>\n",
       "    <tr>\n",
       "      <th>1</th>\n",
       "      <td>1000BONKUSDT</td>\n",
       "      <td>1000BONKUSDT</td>\n",
       "      <td>1000BONK</td>\n",
       "      <td>USDT</td>\n",
       "      <td>1000BONK</td>\n",
       "      <td>USDT</td>\n",
       "      <td>1000BONK</td>\n",
       "      <td>USDT</td>\n",
       "      <td></td>\n",
       "      <td>True</td>\n",
       "      <td>...</td>\n",
       "      <td>6000000</td>\n",
       "      <td>1</td>\n",
       "      <td>200</td>\n",
       "      <td>0.000001</td>\n",
       "      <td>1.0</td>\n",
       "      <td>0.0</td>\n",
       "      <td>0.000001</td>\n",
       "      <td>0.0</td>\n",
       "      <td>None</td>\n",
       "      <td>binance</td>\n",
       "    </tr>\n",
       "    <tr>\n",
       "      <th>2</th>\n",
       "      <td>1000BTTCUSDT</td>\n",
       "      <td>1000BTTCUSDT</td>\n",
       "      <td>None</td>\n",
       "      <td>None</td>\n",
       "      <td>None</td>\n",
       "      <td>None</td>\n",
       "      <td>1000BTTC</td>\n",
       "      <td>USDT</td>\n",
       "      <td></td>\n",
       "      <td>False</td>\n",
       "      <td>...</td>\n",
       "      <td>12000000</td>\n",
       "      <td>1</td>\n",
       "      <td>10000</td>\n",
       "      <td>0.00001</td>\n",
       "      <td>1.0</td>\n",
       "      <td>0.0</td>\n",
       "      <td>0.000001</td>\n",
       "      <td>0.0</td>\n",
       "      <td>None</td>\n",
       "      <td>binance</td>\n",
       "    </tr>\n",
       "    <tr>\n",
       "      <th>3</th>\n",
       "      <td>1000FLOKIUSDT</td>\n",
       "      <td>1000FLOKIUSDT</td>\n",
       "      <td>1000FLOKI</td>\n",
       "      <td>USDT</td>\n",
       "      <td>1000FLOKI</td>\n",
       "      <td>USDT</td>\n",
       "      <td>1000FLOKI</td>\n",
       "      <td>USDT</td>\n",
       "      <td></td>\n",
       "      <td>True</td>\n",
       "      <td>...</td>\n",
       "      <td>638000</td>\n",
       "      <td>1</td>\n",
       "      <td>200</td>\n",
       "      <td>0.00001</td>\n",
       "      <td>1.0</td>\n",
       "      <td>0.0</td>\n",
       "      <td>0.000010</td>\n",
       "      <td>0.0</td>\n",
       "      <td>None</td>\n",
       "      <td>binance</td>\n",
       "    </tr>\n",
       "    <tr>\n",
       "      <th>4</th>\n",
       "      <td>1000LUNCBUSD</td>\n",
       "      <td>1000LUNCBUSD</td>\n",
       "      <td>1000LUNC</td>\n",
       "      <td>BUSD</td>\n",
       "      <td>1000LUNC</td>\n",
       "      <td>BUSD</td>\n",
       "      <td>1000LUNC</td>\n",
       "      <td>BUSD</td>\n",
       "      <td></td>\n",
       "      <td>False</td>\n",
       "      <td>...</td>\n",
       "      <td>2000000</td>\n",
       "      <td>1</td>\n",
       "      <td>200</td>\n",
       "      <td>0.0001</td>\n",
       "      <td>1.0</td>\n",
       "      <td>0.0</td>\n",
       "      <td>0.000010</td>\n",
       "      <td>0.0</td>\n",
       "      <td>None</td>\n",
       "      <td>binance</td>\n",
       "    </tr>\n",
       "  </tbody>\n",
       "</table>\n",
       "<p>5 rows × 28 columns</p>\n",
       "</div>"
      ],
      "text/plain": [
       "      instrument nativeInstrument nativeBaseSymbol nativeQuoteSymbol  \\\n",
       "0   1000BONKUSDC     1000BONKUSDC         1000BONK              USDC   \n",
       "1   1000BONKUSDT     1000BONKUSDT         1000BONK              USDT   \n",
       "2   1000BTTCUSDT     1000BTTCUSDT             None              None   \n",
       "3  1000FLOKIUSDT    1000FLOKIUSDT        1000FLOKI              USDT   \n",
       "4   1000LUNCBUSD     1000LUNCBUSD         1000LUNC              BUSD   \n",
       "\n",
       "  baseSymbol quoteSymbol underlying quoteAsset expiration  active  ...  \\\n",
       "0   1000BONK        USDC   1000BONK       USDC               True  ...   \n",
       "1   1000BONK        USDT   1000BONK       USDT               True  ...   \n",
       "2       None        None   1000BTTC       USDT              False  ...   \n",
       "3  1000FLOKI        USDT  1000FLOKI       USDT               True  ...   \n",
       "4   1000LUNC        BUSD   1000LUNC       BUSD              False  ...   \n",
       "\n",
       "  limits_market_max limits_market_min limits_price_max limits_price_min  \\\n",
       "0            300000                 1              200         0.000001   \n",
       "1           6000000                 1              200         0.000001   \n",
       "2          12000000                 1            10000          0.00001   \n",
       "3            638000                 1              200          0.00001   \n",
       "4           2000000                 1              200           0.0001   \n",
       "\n",
       "  precision_amount precision_base precision_price precision_quote settleAsset  \\\n",
       "0              1.0            0.0        0.000001             0.0        None   \n",
       "1              1.0            0.0        0.000001             0.0        None   \n",
       "2              1.0            0.0        0.000001             0.0        None   \n",
       "3              1.0            0.0        0.000010             0.0        None   \n",
       "4              1.0            0.0        0.000010             0.0        None   \n",
       "\n",
       "  exchange  \n",
       "0  binance  \n",
       "1  binance  \n",
       "2  binance  \n",
       "3  binance  \n",
       "4  binance  \n",
       "\n",
       "[5 rows x 28 columns]"
      ]
     },
     "metadata": {},
     "output_type": "display_data"
    },
    {
     "data": {
      "text/html": [
       "<div>\n",
       "<style scoped>\n",
       "    .dataframe tbody tr th:only-of-type {\n",
       "        vertical-align: middle;\n",
       "    }\n",
       "\n",
       "    .dataframe tbody tr th {\n",
       "        vertical-align: top;\n",
       "    }\n",
       "\n",
       "    .dataframe thead th {\n",
       "        text-align: right;\n",
       "    }\n",
       "</style>\n",
       "<table border=\"1\" class=\"dataframe\">\n",
       "  <thead>\n",
       "    <tr style=\"text-align: right;\">\n",
       "      <th></th>\n",
       "      <th>exchange</th>\n",
       "      <th>instrument</th>\n",
       "      <th>startDate</th>\n",
       "      <th>endDate</th>\n",
       "      <th>active</th>\n",
       "    </tr>\n",
       "  </thead>\n",
       "  <tbody>\n",
       "    <tr>\n",
       "      <th>0</th>\n",
       "      <td>binance</td>\n",
       "      <td>1000BONKUSDC</td>\n",
       "      <td>1.714635e+12</td>\n",
       "      <td>1718140500000</td>\n",
       "      <td>True</td>\n",
       "    </tr>\n",
       "    <tr>\n",
       "      <th>1</th>\n",
       "      <td>binance</td>\n",
       "      <td>1000BONKUSDT</td>\n",
       "      <td>1.700662e+12</td>\n",
       "      <td>1718140500000</td>\n",
       "      <td>True</td>\n",
       "    </tr>\n",
       "    <tr>\n",
       "      <th>2</th>\n",
       "      <td>binance</td>\n",
       "      <td>1000BTTCUSDT</td>\n",
       "      <td>1.643168e+12</td>\n",
       "      <td>1649667600000</td>\n",
       "      <td>False</td>\n",
       "    </tr>\n",
       "    <tr>\n",
       "      <th>3</th>\n",
       "      <td>binance</td>\n",
       "      <td>1000FLOKIUSDT</td>\n",
       "      <td>1.683391e+12</td>\n",
       "      <td>1718140500000</td>\n",
       "      <td>True</td>\n",
       "    </tr>\n",
       "    <tr>\n",
       "      <th>4</th>\n",
       "      <td>binance</td>\n",
       "      <td>1000LUNCBUSD</td>\n",
       "      <td>1.653965e+12</td>\n",
       "      <td>1686213060000</td>\n",
       "      <td>False</td>\n",
       "    </tr>\n",
       "  </tbody>\n",
       "</table>\n",
       "</div>"
      ],
      "text/plain": [
       "  exchange     instrument     startDate        endDate  active\n",
       "0  binance   1000BONKUSDC  1.714635e+12  1718140500000    True\n",
       "1  binance   1000BONKUSDT  1.700662e+12  1718140500000    True\n",
       "2  binance   1000BTTCUSDT  1.643168e+12  1649667600000   False\n",
       "3  binance  1000FLOKIUSDT  1.683391e+12  1718140500000    True\n",
       "4  binance   1000LUNCBUSD  1.653965e+12  1686213060000   False"
      ]
     },
     "metadata": {},
     "output_type": "display_data"
    }
   ],
   "source": [
    "display(df_exchange_reference.head())\n",
    "display(df_ohlcv_info.head())"
   ]
  },
  {
   "cell_type": "code",
   "execution_count": 3,
   "id": "b059f353-e7bd-4393-886c-e0cdf4ef8201",
   "metadata": {},
   "outputs": [],
   "source": [
    "df_exchange_reference = get_exchange_reference_futures(exchange='binance')\n",
    "df_ohlcv_info = get_ohlcv_info_futures(exchange='binance')"
   ]
  },
  {
   "cell_type": "code",
   "execution_count": 4,
   "id": "6395eaa2-3f00-43ce-aa99-0c4839bc45d0",
   "metadata": {},
   "outputs": [],
   "source": [
    "df_instrument_data_merged = pd.merge(\n",
    "    df_exchange_reference,\n",
    "    df_ohlcv_info.drop('active', axis='columns'),\n",
    "    on=['instrument', 'exchange']\n",
    ")\n",
    "# df_instrument_data_merged.loc[df_instrument_data_merged['active_y'].isnull()]"
   ]
  },
  {
   "cell_type": "code",
   "execution_count": 7,
   "id": "bbfebbd3-ec75-4ce3-8eb2-01fbfa385ff5",
   "metadata": {},
   "outputs": [
    {
     "data": {
      "text/plain": [
       "instrument                1000BONKUSDC\n",
       "nativeInstrument          1000BONKUSDC\n",
       "nativeBaseSymbol              1000BONK\n",
       "nativeQuoteSymbol                 USDC\n",
       "baseSymbol                    1000BONK\n",
       "quoteSymbol                       USDC\n",
       "underlying                    1000BONK\n",
       "quoteAsset                        USDC\n",
       "expiration                            \n",
       "active                            True\n",
       "contractSize                      None\n",
       "contractType                 perpetual\n",
       "marginType                      linear\n",
       "limits_amount_max             10000000\n",
       "limits_amount_min                    1\n",
       "limits_cost_max                   None\n",
       "limits_leverage_max               None\n",
       "limits_leverage_min               None\n",
       "limits_market_max               300000\n",
       "limits_market_min                    1\n",
       "limits_price_max                   200\n",
       "limits_price_min              0.000001\n",
       "precision_amount                   1.0\n",
       "precision_base                     0.0\n",
       "precision_price               0.000001\n",
       "precision_quote                    0.0\n",
       "settleAsset                       None\n",
       "exchange                       binance\n",
       "startDate              1714635300000.0\n",
       "endDate                  1718142000000\n",
       "Name: 0, dtype: object"
      ]
     },
     "execution_count": 7,
     "metadata": {},
     "output_type": "execute_result"
    }
   ],
   "source": [
    "df_instrument_data_merged.iloc[0]"
   ]
  },
  {
   "cell_type": "code",
   "execution_count": 37,
   "id": "cd4bed27-ca64-47fe-928d-dd5e3ab1ad5f",
   "metadata": {},
   "outputs": [
    {
     "data": {
      "text/html": [
       "<div>\n",
       "<style scoped>\n",
       "    .dataframe tbody tr th:only-of-type {\n",
       "        vertical-align: middle;\n",
       "    }\n",
       "\n",
       "    .dataframe tbody tr th {\n",
       "        vertical-align: top;\n",
       "    }\n",
       "\n",
       "    .dataframe thead th {\n",
       "        text-align: right;\n",
       "    }\n",
       "</style>\n",
       "<table border=\"1\" class=\"dataframe\">\n",
       "  <thead>\n",
       "    <tr style=\"text-align: right;\">\n",
       "      <th></th>\n",
       "      <th>instrument</th>\n",
       "      <th>nativeInstrument</th>\n",
       "      <th>nativeBaseSymbol</th>\n",
       "      <th>nativeQuoteSymbol</th>\n",
       "      <th>baseSymbol</th>\n",
       "      <th>quoteSymbol</th>\n",
       "      <th>underlying</th>\n",
       "      <th>quoteAsset</th>\n",
       "      <th>expiration</th>\n",
       "      <th>active</th>\n",
       "      <th>...</th>\n",
       "      <th>limits_price_max</th>\n",
       "      <th>limits_price_min</th>\n",
       "      <th>precision_amount</th>\n",
       "      <th>precision_base</th>\n",
       "      <th>precision_price</th>\n",
       "      <th>precision_quote</th>\n",
       "      <th>settleAsset</th>\n",
       "      <th>exchange</th>\n",
       "      <th>startDate</th>\n",
       "      <th>endDate</th>\n",
       "    </tr>\n",
       "  </thead>\n",
       "  <tbody>\n",
       "    <tr>\n",
       "      <th>323</th>\n",
       "      <td>IOUSDT</td>\n",
       "      <td>IOUSDT</td>\n",
       "      <td>IO</td>\n",
       "      <td>USDT</td>\n",
       "      <td>IO</td>\n",
       "      <td>USDT</td>\n",
       "      <td>IO</td>\n",
       "      <td>USDT</td>\n",
       "      <td></td>\n",
       "      <td>True</td>\n",
       "      <td>...</td>\n",
       "      <td>2000</td>\n",
       "      <td>0.001</td>\n",
       "      <td>0.1</td>\n",
       "      <td>0.0</td>\n",
       "      <td>0.001</td>\n",
       "      <td>0.0</td>\n",
       "      <td>None</td>\n",
       "      <td>binance</td>\n",
       "      <td>NaN</td>\n",
       "      <td>1718142000000</td>\n",
       "    </tr>\n",
       "  </tbody>\n",
       "</table>\n",
       "<p>1 rows × 30 columns</p>\n",
       "</div>"
      ],
      "text/plain": [
       "    instrument nativeInstrument nativeBaseSymbol nativeQuoteSymbol baseSymbol  \\\n",
       "323     IOUSDT           IOUSDT               IO              USDT         IO   \n",
       "\n",
       "    quoteSymbol underlying quoteAsset expiration  active  ...  \\\n",
       "323        USDT         IO       USDT               True  ...   \n",
       "\n",
       "    limits_price_max limits_price_min precision_amount precision_base  \\\n",
       "323             2000            0.001              0.1            0.0   \n",
       "\n",
       "    precision_price precision_quote settleAsset exchange startDate  \\\n",
       "323           0.001             0.0        None  binance       NaN   \n",
       "\n",
       "           endDate  \n",
       "323  1718142000000  \n",
       "\n",
       "[1 rows x 30 columns]"
      ]
     },
     "execution_count": 37,
     "metadata": {},
     "output_type": "execute_result"
    }
   ],
   "source": [
    "df_instrument_data_merged.loc[df_instrument_data_merged['startDate'].isnull()]"
   ]
  },
  {
   "cell_type": "code",
   "execution_count": 11,
   "id": "0fd39c33-75d1-4657-ad6a-ae3d02d7f3ce",
   "metadata": {},
   "outputs": [],
   "source": [
    "from datetime import datetime, timezone"
   ]
  },
  {
   "cell_type": "code",
   "execution_count": 12,
   "id": "11257d57-92a1-4a57-a77a-1e716c717fe1",
   "metadata": {},
   "outputs": [
    {
     "data": {
      "text/plain": [
       "1718148426.762746"
      ]
     },
     "execution_count": 12,
     "metadata": {},
     "output_type": "execute_result"
    }
   ],
   "source": [
    "datetime.now(timezone.utc).timestamp()"
   ]
  },
  {
   "cell_type": "code",
   "execution_count": 18,
   "id": "5700b305-e6d0-4f89-81d0-e158e1d94407",
   "metadata": {},
   "outputs": [
    {
     "data": {
      "text/plain": [
       "1483246800.0"
      ]
     },
     "execution_count": 18,
     "metadata": {},
     "output_type": "execute_result"
    }
   ],
   "source": [
    "datetime(2017, 1, 1).timestamp()"
   ]
  },
  {
   "cell_type": "code",
   "execution_count": 28,
   "id": "2f2b7c73-4f13-4cee-9440-19c17f8c5a31",
   "metadata": {},
   "outputs": [],
   "source": [
    "from numpy import nan"
   ]
  },
  {
   "cell_type": "code",
   "execution_count": 32,
   "id": "653308df-a12e-4332-955e-2c397d6c0f58",
   "metadata": {},
   "outputs": [
    {
     "data": {
      "text/html": [
       "<div>\n",
       "<style scoped>\n",
       "    .dataframe tbody tr th:only-of-type {\n",
       "        vertical-align: middle;\n",
       "    }\n",
       "\n",
       "    .dataframe tbody tr th {\n",
       "        vertical-align: top;\n",
       "    }\n",
       "\n",
       "    .dataframe thead th {\n",
       "        text-align: right;\n",
       "    }\n",
       "</style>\n",
       "<table border=\"1\" class=\"dataframe\">\n",
       "  <thead>\n",
       "    <tr style=\"text-align: right;\">\n",
       "      <th></th>\n",
       "      <th>instrument</th>\n",
       "      <th>nativeInstrument</th>\n",
       "      <th>nativeBaseSymbol</th>\n",
       "      <th>nativeQuoteSymbol</th>\n",
       "      <th>baseSymbol</th>\n",
       "      <th>quoteSymbol</th>\n",
       "      <th>underlying</th>\n",
       "      <th>quoteAsset</th>\n",
       "      <th>expiration</th>\n",
       "      <th>active</th>\n",
       "      <th>...</th>\n",
       "      <th>limits_price_max</th>\n",
       "      <th>limits_price_min</th>\n",
       "      <th>precision_amount</th>\n",
       "      <th>precision_base</th>\n",
       "      <th>precision_price</th>\n",
       "      <th>precision_quote</th>\n",
       "      <th>settleAsset</th>\n",
       "      <th>exchange</th>\n",
       "      <th>startDate</th>\n",
       "      <th>endDate</th>\n",
       "    </tr>\n",
       "  </thead>\n",
       "  <tbody>\n",
       "  </tbody>\n",
       "</table>\n",
       "<p>0 rows × 30 columns</p>\n",
       "</div>"
      ],
      "text/plain": [
       "Empty DataFrame\n",
       "Columns: [instrument, nativeInstrument, nativeBaseSymbol, nativeQuoteSymbol, baseSymbol, quoteSymbol, underlying, quoteAsset, expiration, active, contractSize, contractType, marginType, limits_amount_max, limits_amount_min, limits_cost_max, limits_leverage_max, limits_leverage_min, limits_market_max, limits_market_min, limits_price_max, limits_price_min, precision_amount, precision_base, precision_price, precision_quote, settleAsset, exchange, startDate, endDate]\n",
       "Index: []\n",
       "\n",
       "[0 rows x 30 columns]"
      ]
     },
     "execution_count": 32,
     "metadata": {},
     "output_type": "execute_result"
    }
   ],
   "source": [
    "df_instrument_data_merged.query('startDate == None')"
   ]
  },
  {
   "cell_type": "code",
   "execution_count": 38,
   "id": "3a4b0607-3d81-4110-9f11-28796fc3d40d",
   "metadata": {},
   "outputs": [
    {
     "data": {
      "text/plain": [
       "[0, 1]"
      ]
     },
     "execution_count": 38,
     "metadata": {},
     "output_type": "execute_result"
    }
   ],
   "source": [
    "list(range(1 +1))"
   ]
  },
  {
   "cell_type": "code",
   "execution_count": 40,
   "id": "15d30a6a-6ac2-4a6a-9151-039be921fe3a",
   "metadata": {},
   "outputs": [
    {
     "data": {
      "text/plain": [
       "instrument                 ADAUSD_PERP\n",
       "nativeInstrument           ADAUSD_PERP\n",
       "nativeBaseSymbol                   ADA\n",
       "nativeQuoteSymbol                  USD\n",
       "baseSymbol                         ADA\n",
       "quoteSymbol                        USD\n",
       "underlying                         ADA\n",
       "quoteAsset                         USD\n",
       "expiration                            \n",
       "active                            True\n",
       "contractSize                        10\n",
       "contractType                 perpetual\n",
       "marginType                     inverse\n",
       "limits_amount_max              2000000\n",
       "limits_amount_min                    1\n",
       "limits_cost_max                   None\n",
       "limits_leverage_max               None\n",
       "limits_leverage_min               None\n",
       "limits_market_max                25000\n",
       "limits_market_min                    1\n",
       "limits_price_max                   202\n",
       "limits_price_min                 0.017\n",
       "precision_amount                   1.0\n",
       "precision_base                     0.0\n",
       "precision_price                 0.0001\n",
       "precision_quote                    0.0\n",
       "settleAsset                       None\n",
       "exchange                       binance\n",
       "startDate              1598425800000.0\n",
       "endDate                  1718142000000\n",
       "Name: 35, dtype: object"
      ]
     },
     "execution_count": 40,
     "metadata": {},
     "output_type": "execute_result"
    }
   ],
   "source": [
    "df_instrument_data_merged.query('instrument == \"ADAUSD_PERP\"').iloc[0]"
   ]
  },
  {
   "cell_type": "code",
   "execution_count": null,
   "id": "e58239a3-fb47-4fb6-a829-f799df2fc51a",
   "metadata": {},
   "outputs": [],
   "source": []
  }
 ],
 "metadata": {
  "kernelspec": {
   "display_name": "Python 3 (ipykernel)",
   "language": "python",
   "name": "python3"
  },
  "language_info": {
   "codemirror_mode": {
    "name": "ipython",
    "version": 3
   },
   "file_extension": ".py",
   "mimetype": "text/x-python",
   "name": "python",
   "nbconvert_exporter": "python",
   "pygments_lexer": "ipython3",
   "version": "3.11.2"
  }
 },
 "nbformat": 4,
 "nbformat_minor": 5
}
